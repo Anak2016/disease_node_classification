{
 "cells": [
  {
   "cell_type": "code",
   "execution_count": 16,
   "metadata": {},
   "outputs": [],
   "source": [
    "class something():\n",
    "    def __init__(self):\n",
    "        pass\n",
    "        #print(\"in __init__\")\n",
    "    def __call__(self):\n",
    "        print(\"in __call__\")"
   ]
  },
  {
   "cell_type": "code",
   "execution_count": 23,
   "metadata": {},
   "outputs": [
    {
     "data": {
      "text\plain": [
       "<__main__.something at 0x234298960b8>"
      ]
     },
     "execution_count": 23,
     "metadata": {},
     "output_type": "execute_result"
    }
   ],
   "source": [
    "something()\n",
    "# s.something()"
   ]
  },
  {
   "cell_type": "code",
   "execution_count": null,
   "metadata": {},
   "outputs": [],
   "source": [
    "__call__ = when a isntance is called\n",
    "__init__ = when a class is called \n"
   ]
  },
  {
   "cell_type": "code",
   "execution_count": 14,
   "metadata": {},
   "outputs": [
    {
     "name": "stdout",
     "output_type": "stream",
     "text": [
      "tensor(0, dtype=torch.uint8)\n"
     ]
    }
   ],
   "source": [
    "import torch\n",
    "import torch.nn.functional as F\n",
    "x = torch.randn(1, 10)\n",
    "\n",
    "torch.manual_seed(2809)\n",
    "d11 = F.dropout(x, p=0.5, training=True)\n",
    "d12 = F.dropout(x, p=0.5, training=True)\n",
    "\n",
    "\n",
    "torch.manual_seed(2810)\n",
    "d21 = F.dropout(x, p=0.5, training=True)\n",
    "d22 = F.dropout(x, p=0.5, training=True)\n",
    "\n",
    "\n",
    "print((d12==d22).all())"
   ]
  },
  {
   "cell_type": "code",
   "execution_count": 23,
   "metadata": {},
   "outputs": [
    {
     "name": "stdout",
     "output_type": "stream",
     "text": [
      "[[0 1 2]\n",
      " [3 4 5]]\n",
      "\n",
      "[[0 1 2]\n",
      " [3 4 5]]\n",
      "\n",
      "[[0 1 2]\n",
      " [3 4 5]]\n"
     ]
    }
   ],
   "source": [
    "import numpy as np\n",
    "x = np.arange(6).reshape(2,-1)\n",
    "y = np.arange(6).reshape(2,-1)\n",
    "z = np.arange(6).reshape(2,-1)\n",
    "cm_x = 'training'\n",
    "cm_y = 'val'\n",
    "cm_z = 'test'\n",
    "# print('\\n\\n'.join([np.array2string(x), np.array2string(y),np.array2string(z)]))\n",
    "map('\\n'.join, [np.array2string(x), np.array2string(y),np.array2string(z)])"
   ]
  },
  {
   "cell_type": "code",
   "execution_count": null,
   "metadata": {},
   "outputs": [],
   "source": []
  },
  {
   "cell_type": "code",
   "execution_count": null,
   "metadata": {},
   "outputs": [],
   "source": []
  },
  {
   "cell_type": "code",
   "execution_count": null,
   "metadata": {},
   "outputs": [],
   "source": []
  },
  {
   "cell_type": "code",
   "execution_count": null,
   "metadata": {},
   "outputs": [],
   "source": []
  },
  {
   "cell_type": "code",
   "execution_count": null,
   "metadata": {},
   "outputs": [],
   "source": []
  }
 ],
 "metadata": {
  "kernelspec": {
   "display_name": "Python 3",
   "language": "python",
   "name": "python3"
  },
  "language_info": {
   "codemirror_mode": {
    "name": "ipython",
    "version": 3
   },
   "file_extension": ".py",
   "mimetype": "text\x-python",
   "name": "python",
   "nbconvert_exporter": "python",
   "pygments_lexer": "ipython3",
   "version": "3.7.3"
  }
 },
 "nbformat": 4,
 "nbformat_minor": 2
}
