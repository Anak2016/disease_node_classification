{
 "cells": [
  {
   "cell_type": "markdown",
   "metadata": {},
   "source": [
    "> find shortest path length\n",
    "> safe it so it can be quickly read back\n",
    "> create path that is unique for this\n",
    "> pick the same number of edges of each conditions (so that they are comparable)\n",
    "> run on node2vec\n",
    "> run on all classifiers of node2vec\n",
    "> run GCN and save it to its classifier"
   ]
  },
  {
   "cell_type": "code",
   "execution_count": null,
   "metadata": {},
   "outputs": [],
   "source": [
    ">>> from collections import OrderedDict\n",
    ">>> dd = OrderedDict(sorted(d.items(), key=lambda x: x[1], reverse=True))\n",
    ">>> print(dd)\n",
    "OrderedDict([('Pierre', 24), ('Anne', 33), ('Zoe', 42)])"
   ]
  },
  {
   "cell_type": "code",
   "execution_count": 132,
   "metadata": {},
   "outputs": [
    {
     "data": {
      "text/html": [
       "<div>\n",
       "<style scoped>\n",
       "    .dataframe tbody tr th:only-of-type {\n",
       "        vertical-align: middle;\n",
       "    }\n",
       "\n",
       "    .dataframe tbody tr th {\n",
       "        vertical-align: top;\n",
       "    }\n",
       "\n",
       "    .dataframe thead th {\n",
       "        text-align: right;\n",
       "    }\n",
       "</style>\n",
       "<table border=\"1\" class=\"dataframe\">\n",
       "  <thead>\n",
       "    <tr style=\"text-align: right;\">\n",
       "      <th></th>\n",
       "      <th>0</th>\n",
       "      <th>1</th>\n",
       "      <th>2</th>\n",
       "      <th>3</th>\n",
       "      <th>4</th>\n",
       "    </tr>\n",
       "  </thead>\n",
       "  <tbody>\n",
       "    <tr>\n",
       "      <th>0</th>\n",
       "      <td>5</td>\n",
       "      <td>8</td>\n",
       "      <td>6</td>\n",
       "      <td>4</td>\n",
       "      <td>2</td>\n",
       "    </tr>\n",
       "    <tr>\n",
       "      <th>1</th>\n",
       "      <td>5</td>\n",
       "      <td>13</td>\n",
       "      <td>19</td>\n",
       "      <td>23</td>\n",
       "      <td>25</td>\n",
       "    </tr>\n",
       "  </tbody>\n",
       "</table>\n",
       "</div>"
      ],
      "text/plain": [
       "   0   1   2   3   4\n",
       "0  5   8   6   4   2\n",
       "1  5  13  19  23  25"
      ]
     },
     "execution_count": 132,
     "metadata": {},
     "output_type": "execute_result"
    }
   ],
   "source": [
    "import pandas as pd\n",
    "def Merlin_pandas(l):\n",
    "    '''return dict that after apply cumsum to pandas'''\n",
    "#     df = pd.DataFrame(l).rename(columns=tmp)\n",
    "    df = pd.DataFrame(l, index = [0])\n",
    "#     print(df)\n",
    "    df = pd.concat([df]*2, ignore_index = True)\n",
    "    df.iloc[1] = df.iloc[0].cumsum()\n",
    "#     print(df)\n",
    "    tmp = df\n",
    "    return tmp \n",
    "#     return df.to_dict(orient='')\n",
    "tmp = {'0': 5, '1': 8, '2': 6, '3': 4, '4': 2}\n",
    "Merlin_pandas(tmp)"
   ]
  },
  {
   "cell_type": "code",
   "execution_count": 109,
   "metadata": {},
   "outputs": [
    {
     "ename": "TypeError",
     "evalue": "unhashable type: 'dict_keys'",
     "output_type": "error",
     "traceback": [
      "\u001b[1;31m---------------------------------------------------------------------------\u001b[0m",
      "\u001b[1;31mTypeError\u001b[0m                                 Traceback (most recent call last)",
      "\u001b[1;32m<ipython-input-109-37f9a421cdb5>\u001b[0m in \u001b[0;36m<module>\u001b[1;34m\u001b[0m\n\u001b[1;32m----> 1\u001b[1;33m \u001b[0mtmp\u001b[0m\u001b[1;33m[\u001b[0m\u001b[0mtmp\u001b[0m\u001b[1;33m.\u001b[0m\u001b[0mkeys\u001b[0m\u001b[1;33m(\u001b[0m\u001b[1;33m)\u001b[0m\u001b[1;33m]\u001b[0m\u001b[1;33m\u001b[0m\u001b[1;33m\u001b[0m\u001b[0m\n\u001b[0m",
      "\u001b[1;31mTypeError\u001b[0m: unhashable type: 'dict_keys'"
     ]
    }
   ],
   "source": [
    "tmp[tmp.keys()]"
   ]
  },
  {
   "cell_type": "code",
   "execution_count": 251,
   "metadata": {
    "scrolled": false
   },
   "outputs": [
    {
     "name": "stdout",
     "output_type": "stream",
     "text": [
      "tmp = [4 4 3 3 3 3 2 2 2 2 2 2 1 1 1 1 1 1 1 1 0 0 0 0 0]\n",
      "count_same_val = OrderedDict([(4, 2), (3, 4), (2, 6), (1, 8), (0, 5)])\n",
      "df =    4  3   2   1   0\n",
      "0  2  4   6   8   5\n",
      "1  2  6  12  20  25\n",
      "picked = [0, 1, 2, 3, 4, 5]\n",
      "[2 2 2 2 2 2]\n",
      "[10]\n",
      "[0, 1, 2, 3, 4, 5, 10]\n",
      "picked = [0, 1, 2, 3, 4, 5, 10]\n",
      "[['0' '4']\n",
      " ['4' '0']\n",
      " ['0' '3']\n",
      " ['1' '4']\n",
      " ['3' '0']\n",
      " ['4' '1']\n",
      " ['3' '1']]\n"
     ]
    }
   ],
   "source": [
    "import networkx as nx\n",
    "import collections\n",
    "from collections import OrderedDict\n",
    "from operator import itemgetter \n",
    "\n",
    "G = nx.path_graph(5)\n",
    "length = nx.all_pairs_shortest_path_length(G)\n",
    "\n",
    "def pick_longest_path(length,amount=None):\n",
    "    tmp ={}\n",
    "    count_same_val = collections.OrderedDict({})\n",
    "    for i in length:\n",
    "    #     print(i)\n",
    "        for j, val in i[1].items():\n",
    "            tmp[f'{i[0]}_{j}'] = val\n",
    "            if count_same_val.setdefault(val, None) is None:\n",
    "                count_same_val[val] = 1\n",
    "            else:\n",
    "                count_same_val[val] += 1    \n",
    "#     tmp = sorted((v,k) for k,v in tmp.items())[::-1]\n",
    "    tmp = np.array( sorted(tmp.items(), key=lambda tmp: tmp[1], reverse= True))\n",
    "    edges = tmp[:,0]\n",
    "    tmp = tmp[:,1].astype(int)\n",
    "    \n",
    "    count_same_val = OrderedDict(sorted(count_same_val.items(), key=itemgetter(0), reverse=True))\n",
    "    ind = 0 \n",
    "    print(f'tmp = {tmp}')\n",
    "    print(f'count_same_val = {count_same_val}')\n",
    "    # apply cumsum to pandas\n",
    "    df = Merlin_pandas(count_same_val) # cumsum with the same key \n",
    "    print(f'df = {df}')\n",
    "    picked = None\n",
    "    cumsum = df.iloc[1].to_dict()\n",
    "    for i ,(k,v) in enumerate(cumsum.items()):\n",
    "        if i == 0 and v < amount:\n",
    "            picked = v\n",
    "#             print(picked)\n",
    "        if v <= amount:\n",
    "            picked = v\n",
    "\n",
    "    picked = list(range(picked))\n",
    "    print(f'picked = {picked}')\n",
    "    left_num = amount - len(picked)\n",
    "    if left_num > 0:\n",
    "        tmp = tmp[tmp == tmp[max(picked)+1]]\n",
    "        print(tmp)\n",
    "        prob = [1/len(tmp) for i in range(len(tmp))]\n",
    "        more_picked = np.random.choice(range(len(tmp)), left_num, prob)\n",
    "        more_picked += len(picked)\n",
    "        more_picked = list(more_picked)\n",
    "        print(more_picked)\n",
    "        picked += more_picked\n",
    "        print(picked)\n",
    "\n",
    "    print(f\"picked = {picked}\")\n",
    "    # get edgse\n",
    "    picked_edges = edges[picked]\n",
    "    picked_edges = np.array([i.split('_') for i in picked_edges])\n",
    "    \n",
    "    return picked_edges\n",
    "\n",
    "print(pick_longest_path(length, 7))"
   ]
  },
  {
   "cell_type": "markdown",
   "metadata": {},
   "source": [
    "> write script to collect data of the same condition or threshold\n",
    "> Goal here is to identify which of these models are the best and how much better\n",
    "    > apply ranking statistic ()"
   ]
  },
  {
   "cell_type": "markdown",
   "metadata": {},
   "source": [
    "> For node2vec, select the best node2vec and plot node embedding of node2vec.\n",
    "> For GCN, select the best GCN and plot node embedding of GCN.\n",
    "    >exclude results of GCN pseudo label"
   ]
  },
  {
   "cell_type": "code",
   "execution_count": null,
   "metadata": {},
   "outputs": [],
   "source": []
  },
  {
   "cell_type": "markdown",
   "metadata": {},
   "source": [
    "> only select nodes that are not sharing any genes\n",
    "> safe it so it can be quickly read back\n",
    "> pick the same number of edges of each conditions (so that they are comparable)\n",
    "> run on node2vec\n",
    "> run on all classifiers of node2vec\n",
    "> run GCN and save it to its classifier"
   ]
  },
  {
   "cell_type": "markdown",
   "metadata": {},
   "source": [
    "> only select nodes that are not sharing any genes\n",
    "> safe it so it can be quickly read back\n",
    "> pick top 0.05 to 0.5 that are furthest away, run on node2vec and GCN + all classifier"
   ]
  },
  {
   "cell_type": "markdown",
   "metadata": {},
   "source": [
    "> only select nodes that are in the same classes\n",
    "> safe it so it can be quickly read back\n",
    "> pick the same number of edges of each conditions (so that they are comparable)\n",
    "    > number of added edges within the classe will be proportional to the class size\n",
    "> run on node2vec\n",
    "> run on all classifiers of node2vec\n",
    "> run GCN and save it to its classifier"
   ]
  },
  {
   "cell_type": "markdown",
   "metadata": {},
   "source": [
    "> only select nodes that are in the same classes\n",
    "> safe it so it can be quickly read back\n",
    "> pick the same number of edges of each conditions (so that they are comparable)\n",
    "    > number of added edges within the classe will be proportional to the class size\n",
    "> run on node2vec\n",
    "> run on all classifiers of node2vec\n",
    "> run GCN and save it to its classifier"
   ]
  },
  {
   "cell_type": "markdown",
   "metadata": {},
   "source": [
    "> For node2vec, select the best node2vec and plot node embedding of node2vec.\n",
    "> For GCN, select the best GCN and plot node embedding of GCN.\n",
    "    >For pseudo label in GCN"
   ]
  },
  {
   "cell_type": "code",
   "execution_count": null,
   "metadata": {},
   "outputs": [],
   "source": []
  }
 ],
 "metadata": {
  "kernelspec": {
   "display_name": "Python 3",
   "language": "python",
   "name": "python3"
  },
  "language_info": {
   "codemirror_mode": {
    "name": "ipython",
    "version": 3
   },
   "file_extension": ".py",
   "mimetype": "text/x-python",
   "name": "python",
   "nbconvert_exporter": "python",
   "pygments_lexer": "ipython3",
   "version": "3.7.1"
  }
 },
 "nbformat": 4,
 "nbformat_minor": 2
}
