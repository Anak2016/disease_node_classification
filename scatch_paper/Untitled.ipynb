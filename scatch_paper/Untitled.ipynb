{
 "cells": [
  {
   "cell_type": "code",
   "execution_count": null,
   "metadata": {},
   "outputs": [],
   "source": [
    "import sys,os\n",
    "USER = os.environ['USERPROFILE']\n",
    "sys.path.insert(1,f'{USER}\\\\PycharmProjects\\\\my_utility')\n",
    "\n",
    "from utility_code.my_utility import *\n",
    "from utility_code.python_lib_essential import *\n",
    "\n"
   ]
  },
  {
   "cell_type": "code",
   "execution_count": null,
   "metadata": {},
   "outputs": [],
   "source": [
    "\n",
    "print('With the same seed')\n",
    "np.random.seed(31415) \n",
    "print(np.random.random((2,2)))\n",
    "# np.random.seed(31415) # reset the random seed back to 31415\n",
    "print(np.random.random((2,2)))\n",
    "np.random.seed(31415) \n",
    "print(np.random.random((2,2)))\n",
    "# np.random.seed(31415) # reset the random seed back to 31415\n",
    "print(np.random.random((2,2)))"
   ]
  },
  {
   "cell_type": "code",
   "execution_count": null,
   "metadata": {},
   "outputs": [],
   "source": [
    "import numpy as np\n",
    "from sklearn.model_selection import StratifiedKFold\n",
    "X = np.array([[1, 2], [3, 4], [3, 4], [3, 4], [1, 2], [3, 4]])\n",
    "y = np.array([0, 0, 0,0,1, 1])\n",
    "skf = StratifiedKFold(n_splits=4)\n",
    "skf.get_n_splits(X, y)\n",
    "\n",
    "print(skf)  \n",
    "\n",
    "for train_index, test_index in skf.split(X, y):\n",
    "   print(\"TRAIN:\", train_index, \"TEST:\", test_index)\n",
    "   X_train, X_test = X[train_index], X[test_index]\n",
    "   y_train, y_test = y[train_index], y[test_index]"
   ]
  },
  {
   "cell_type": "code",
   "execution_count": null,
   "metadata": {},
   "outputs": [],
   "source": [
    "x = True\n",
    "y = 'a'\n",
    "if x and y is not None: \n",
    "    print(\"yes\")\n",
    "else:\n",
    "    print(\"No\")"
   ]
  },
  {
   "cell_type": "code",
   "execution_count": null,
   "metadata": {},
   "outputs": [],
   "source": [
    "if x and y is not None: \n",
    "    print(\"yes\")\n",
    "if not x or y is None: \n",
    "    print(\"No\")"
   ]
  },
  {
   "cell_type": "code",
   "execution_count": null,
   "metadata": {},
   "outputs": [],
   "source": [
    "import torch"
   ]
  },
  {
   "cell_type": "code",
   "execution_count": null,
   "metadata": {},
   "outputs": [],
   "source": [
    "x = torch.rand((3,2))\n",
    "x"
   ]
  },
  {
   "cell_type": "code",
   "execution_count": null,
   "metadata": {},
   "outputs": [],
   "source": [
    "x.size(1)"
   ]
  },
  {
   "cell_type": "code",
   "execution_count": null,
   "metadata": {},
   "outputs": [],
   "source": [
    "x = [i for i in range(1, 3000)]\n",
    "y = [i for i in range(2000, 5000)]\n",
    "%timeit [len(set(x).intersection(set(y)))]"
   ]
  },
  {
   "cell_type": "code",
   "execution_count": null,
   "metadata": {},
   "outputs": [],
   "source": [
    "import numpy as np \n",
    "x = np.arange(3000)\n",
    "y = np.arange(3000) + 2000\n",
    "%timeit np.intersect1d(x, y)"
   ]
  },
  {
   "cell_type": "code",
   "execution_count": null,
   "metadata": {},
   "outputs": [],
   "source": [
    "%timeit np.in1d(x,y, assume_unique=True)"
   ]
  },
  {
   "cell_type": "code",
   "execution_count": null,
   "metadata": {},
   "outputs": [],
   "source": [
    "%timeit x.dot(y)"
   ]
  },
  {
   "cell_type": "code",
   "execution_count": 35,
   "metadata": {},
   "outputs": [
    {
     "name": "stdout",
     "output_type": "stream",
     "text": [
      "[(0, 1), (0, 2), (0, 3), (0, 4), (1, 2), (1, 3), (1, 4), (2, 3), (2, 4), (3, 4)]\n"
     ]
    }
   ],
   "source": [
    "import networkx as nx\n",
    "G = nx.complete_graph(5)\n",
    "# preds = nx.jaccard_coefficient(G, [(0, 1), (2, 3)])\n",
    "# G = nx.Graph()\n",
    "preds = nx.jaccard_coefficient(G, [(2, 3), (0, 1)])\n",
    "for u, v, p in preds:\n",
    "#     print('(%d, %d) -> %.8f' % (u, v, p))\n",
    "    G.add_weighted_edges_from([(u,v,100)], weight='jaccard_coeff')\n",
    "\n",
    "print(G.edges)\n",
    "# '(0, 1) -> 0.60000000'\n",
    "# '(2, 3) -> 0.60000000'"
   ]
  },
  {
   "cell_type": "code",
   "execution_count": 37,
   "metadata": {},
   "outputs": [
    {
     "data": {
      "text/plain": [
       "matrix([[  0., 100.,   1.,   1.,   1.],\n",
       "        [100.,   0.,   1.,   1.,   1.],\n",
       "        [  1.,   1.,   0., 100.,   1.],\n",
       "        [  1.,   1., 100.,   0.,   1.],\n",
       "        [  1.,   1.,   1.,   1.,   0.]])"
      ]
     },
     "execution_count": 37,
     "metadata": {},
     "output_type": "execute_result"
    }
   ],
   "source": [
    "nx.to_numpy_matrix(G, weight='jaccard_coeff')"
   ]
  },
  {
   "cell_type": "code",
   "execution_count": 23,
   "metadata": {},
   "outputs": [],
   "source": [
    "G.add_weighted_edges_from([(0,1,100)], weight='jaccard_coeff')"
   ]
  },
  {
   "cell_type": "code",
   "execution_count": 27,
   "metadata": {},
   "outputs": [
    {
     "data": {
      "text/plain": [
       "{'weight': 100, 'jaccard_coeff': 100}"
      ]
     },
     "execution_count": 27,
     "metadata": {},
     "output_type": "execute_result"
    }
   ],
   "source": [
    "G.get_edge_data(0,1)"
   ]
  },
  {
   "cell_type": "code",
   "execution_count": null,
   "metadata": {},
   "outputs": [],
   "source": []
  },
  {
   "cell_type": "code",
   "execution_count": null,
   "metadata": {},
   "outputs": [],
   "source": []
  },
  {
   "cell_type": "code",
   "execution_count": null,
   "metadata": {},
   "outputs": [],
   "source": []
  }
 ],
 "metadata": {
  "kernelspec": {
   "display_name": "Python 3",
   "language": "python",
   "name": "python3"
  },
  "language_info": {
   "codemirror_mode": {
    "name": "ipython",
    "version": 3
   },
   "file_extension": ".py",
   "mimetype": "text/x-python",
   "name": "python",
   "nbconvert_exporter": "python",
   "pygments_lexer": "ipython3",
   "version": "3.7.1"
  }
 },
 "nbformat": 4,
 "nbformat_minor": 2
}
