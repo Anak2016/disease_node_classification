{
 "cells": [
  {
   "cell_type": "code",
   "execution_count": 18,
   "metadata": {},
   "outputs": [
    {
     "name": "stdout",
     "output_type": "stream",
     "text": [
      "[0 1 2]\n"
     ]
    },
    {
     "data": {
      "text/plain": [
       "([<matplotlib.axis.XTick at 0x13f9e67b898>,\n",
       "  <matplotlib.axis.XTick at 0x13f9e49eda0>,\n",
       "  <matplotlib.axis.XTick at 0x13f9ddd7358>],\n",
       " <a list of 3 Text xticklabel objects>)"
      ]
     },
     "execution_count": 18,
     "metadata": {},
     "output_type": "execute_result"
    },
    {
     "data": {
      "image/png": "[encoded data removed]",
      "text/plain": [
       "<Figure size 432x288 with 1 Axes>"
      ]
     },
     "metadata": {
      "needs_background": "light"
     },
     "output_type": "display_data"
    }
   ],
   "source": [
    "import numpy as np\n",
    "import matplotlib.pyplot as plt\n",
    "%matplotlib inline\n",
    "\n",
    "x = np.arange(3)\n",
    "print(x)\n",
    "plt.bar([1,0,2], height= [1,2,3])\n",
    "plt.xticks(x, ['a','b','c'])"
   ]
  },
  {
   "cell_type": "code",
   "execution_count": 12,
   "metadata": {},
   "outputs": [
    {
     "data": {
      "text/plain": [
       "1"
      ]
     },
     "execution_count": 12,
     "metadata": {},
     "output_type": "execute_result"
    }
   ],
   "source": [
    "import pickle\n",
    "class C(object):\n",
    "    def __init__(self, i):\n",
    "        self.i = i\n",
    "    def __getstate__(self):\n",
    "        return {'i': self.i}\n",
    "assert pickle.loads(pickle.dumps(C(1), -1)).i == 1\n",
    "pickle.loads(pickle.dumps(C(1), -1)).i"
   ]
  },
  {
   "cell_type": "code",
   "execution_count": 21,
   "metadata": {},
   "outputs": [
    {
     "name": "stdout",
     "output_type": "stream",
     "text": [
      "Downloading https://github.com/kimiyoung/planetoid/raw/master/data/ind.cora.x\n",
      "Downloading https://github.com/kimiyoung/planetoid/raw/master/data/ind.cora.tx\n",
      "Downloading https://github.com/kimiyoung/planetoid/raw/master/data/ind.cora.allx\n",
      "Downloading https://github.com/kimiyoung/planetoid/raw/master/data/ind.cora.y\n",
      "Downloading https://github.com/kimiyoung/planetoid/raw/master/data/ind.cora.ty\n",
      "Downloading https://github.com/kimiyoung/planetoid/raw/master/data/ind.cora.ally\n",
      "Downloading https://github.com/kimiyoung/planetoid/raw/master/data/ind.cora.graph\n",
      "Downloading https://github.com/kimiyoung/planetoid/raw/master/data/ind.cora.test.index\n",
      "Processing...\n",
      "Done!\n",
      "Epoch: 001, Train: 0.2429, Val: 0.2240, Test: 0.2010\n",
      "Epoch: 002, Train: 0.5643, Val: 0.3680, Test: 0.3450\n",
      "Epoch: 003, Train: 0.6429, Val: 0.4400, Test: 0.4430\n",
      "Epoch: 004, Train: 0.6071, Val: 0.4000, Test: 0.3930\n",
      "Epoch: 005, Train: 0.6143, Val: 0.3740, Test: 0.3740\n",
      "Epoch: 006, Train: 0.6714, Val: 0.4280, Test: 0.4170\n",
      "Epoch: 007, Train: 0.7071, Val: 0.4520, Test: 0.4250\n",
      "Epoch: 008, Train: 0.7000, Val: 0.4340, Test: 0.4290\n",
      "Epoch: 009, Train: 0.6643, Val: 0.4220, Test: 0.4270\n",
      "Epoch: 010, Train: 0.6929, Val: 0.4440, Test: 0.4380\n",
      "Epoch: 011, Train: 0.7071, Val: 0.4460, Test: 0.4340\n",
      "Epoch: 012, Train: 0.7429, Val: 0.4560, Test: 0.4420\n",
      "Epoch: 013, Train: 0.7929, Val: 0.4960, Test: 0.4850\n",
      "Epoch: 014, Train: 0.7929, Val: 0.5080, Test: 0.5030\n",
      "Epoch: 015, Train: 0.8286, Val: 0.5360, Test: 0.5390\n",
      "Epoch: 016, Train: 0.8500, Val: 0.5800, Test: 0.5850\n",
      "Epoch: 017, Train: 0.8857, Val: 0.6380, Test: 0.6360\n",
      "Epoch: 018, Train: 0.8929, Val: 0.6760, Test: 0.6810\n",
      "Epoch: 019, Train: 0.8929, Val: 0.7180, Test: 0.7140\n",
      "Epoch: 020, Train: 0.9143, Val: 0.7460, Test: 0.7480\n",
      "Epoch: 021, Train: 0.9286, Val: 0.7660, Test: 0.7640\n",
      "Epoch: 022, Train: 0.9286, Val: 0.7760, Test: 0.7730\n",
      "Epoch: 023, Train: 0.9214, Val: 0.7740, Test: 0.7780\n",
      "Epoch: 024, Train: 0.9286, Val: 0.7720, Test: 0.7870\n",
      "Epoch: 025, Train: 0.9500, Val: 0.7740, Test: 0.7890\n",
      "Epoch: 026, Train: 0.9500, Val: 0.7700, Test: 0.7820\n",
      "Epoch: 027, Train: 0.9500, Val: 0.7760, Test: 0.7770\n",
      "Epoch: 028, Train: 0.9500, Val: 0.7680, Test: 0.7720\n",
      "Epoch: 029, Train: 0.9429, Val: 0.7660, Test: 0.7720\n",
      "Epoch: 030, Train: 0.9500, Val: 0.7660, Test: 0.7630\n",
      "Epoch: 031, Train: 0.9500, Val: 0.7620, Test: 0.7610\n",
      "Epoch: 032, Train: 0.9500, Val: 0.7560, Test: 0.7540\n",
      "Epoch: 033, Train: 0.9429, Val: 0.7560, Test: 0.7540\n",
      "Epoch: 034, Train: 0.9500, Val: 0.7680, Test: 0.7640\n",
      "Epoch: 035, Train: 0.9571, Val: 0.7840, Test: 0.7730\n",
      "Epoch: 036, Train: 0.9571, Val: 0.7920, Test: 0.7820\n",
      "Epoch: 037, Train: 0.9571, Val: 0.7960, Test: 0.7910\n",
      "Epoch: 038, Train: 0.9643, Val: 0.7980, Test: 0.7990\n",
      "Epoch: 039, Train: 0.9643, Val: 0.8000, Test: 0.8040\n",
      "Epoch: 040, Train: 0.9571, Val: 0.7980, Test: 0.8100\n",
      "Epoch: 041, Train: 0.9571, Val: 0.8000, Test: 0.8120\n",
      "Epoch: 042, Train: 0.9571, Val: 0.7920, Test: 0.8160\n",
      "Epoch: 043, Train: 0.9643, Val: 0.7880, Test: 0.8180\n",
      "Epoch: 044, Train: 0.9500, Val: 0.7900, Test: 0.8250\n",
      "Epoch: 045, Train: 0.9500, Val: 0.7900, Test: 0.8230\n",
      "Epoch: 046, Train: 0.9429, Val: 0.7900, Test: 0.8170\n",
      "Epoch: 047, Train: 0.9429, Val: 0.7880, Test: 0.8050\n",
      "Epoch: 048, Train: 0.9429, Val: 0.7920, Test: 0.8050\n",
      "Epoch: 049, Train: 0.9429, Val: 0.7940, Test: 0.8030\n",
      "Epoch: 050, Train: 0.9500, Val: 0.7940, Test: 0.8060\n",
      "Epoch: 051, Train: 0.9500, Val: 0.7980, Test: 0.8100\n",
      "Epoch: 052, Train: 0.9500, Val: 0.7960, Test: 0.8050\n",
      "Epoch: 053, Train: 0.9571, Val: 0.7960, Test: 0.8020\n",
      "Epoch: 054, Train: 0.9571, Val: 0.8000, Test: 0.8030\n",
      "Epoch: 055, Train: 0.9643, Val: 0.8060, Test: 0.8050\n",
      "Epoch: 056, Train: 0.9643, Val: 0.8020, Test: 0.8100\n",
      "Epoch: 057, Train: 0.9643, Val: 0.8000, Test: 0.8110\n",
      "Epoch: 058, Train: 0.9643, Val: 0.8020, Test: 0.8100\n",
      "Epoch: 059, Train: 0.9643, Val: 0.8000, Test: 0.8090\n",
      "Epoch: 060, Train: 0.9571, Val: 0.7960, Test: 0.8100\n",
      "Epoch: 061, Train: 0.9571, Val: 0.7980, Test: 0.8100\n",
      "Epoch: 062, Train: 0.9571, Val: 0.7980, Test: 0.8100\n",
      "Epoch: 063, Train: 0.9571, Val: 0.7980, Test: 0.8130\n",
      "Epoch: 064, Train: 0.9643, Val: 0.7920, Test: 0.8090\n",
      "Epoch: 065, Train: 0.9643, Val: 0.7920, Test: 0.8090\n",
      "Epoch: 066, Train: 0.9643, Val: 0.7920, Test: 0.8100\n",
      "Epoch: 067, Train: 0.9643, Val: 0.7920, Test: 0.8060\n",
      "Epoch: 068, Train: 0.9643, Val: 0.7880, Test: 0.8070\n",
      "Epoch: 069, Train: 0.9714, Val: 0.7860, Test: 0.8120\n",
      "Epoch: 070, Train: 0.9714, Val: 0.7860, Test: 0.8120\n",
      "Epoch: 071, Train: 0.9714, Val: 0.7880, Test: 0.8090\n",
      "Epoch: 072, Train: 0.9714, Val: 0.7900, Test: 0.8080\n",
      "Epoch: 073, Train: 0.9714, Val: 0.7980, Test: 0.8110\n",
      "Epoch: 074, Train: 0.9714, Val: 0.8000, Test: 0.8130\n",
      "Epoch: 075, Train: 0.9786, Val: 0.8020, Test: 0.8160\n",
      "Epoch: 076, Train: 0.9786, Val: 0.7960, Test: 0.8170\n",
      "Epoch: 077, Train: 0.9786, Val: 0.8000, Test: 0.8210\n",
      "Epoch: 078, Train: 0.9786, Val: 0.8020, Test: 0.8200\n",
      "Epoch: 079, Train: 0.9786, Val: 0.8040, Test: 0.8200\n",
      "Epoch: 080, Train: 0.9786, Val: 0.8080, Test: 0.8170\n",
      "Epoch: 081, Train: 0.9786, Val: 0.8080, Test: 0.8150\n",
      "Epoch: 082, Train: 0.9786, Val: 0.8080, Test: 0.8170\n",
      "Epoch: 083, Train: 0.9786, Val: 0.8060, Test: 0.8180\n",
      "Epoch: 084, Train: 0.9786, Val: 0.8060, Test: 0.8200\n",
      "Epoch: 085, Train: 0.9786, Val: 0.8040, Test: 0.8200\n",
      "Epoch: 086, Train: 0.9786, Val: 0.7980, Test: 0.8220\n",
      "Epoch: 087, Train: 0.9857, Val: 0.7960, Test: 0.8260\n",
      "Epoch: 088, Train: 0.9857, Val: 0.8000, Test: 0.8240\n",
      "Epoch: 089, Train: 0.9857, Val: 0.8000, Test: 0.8240\n",
      "Epoch: 090, Train: 0.9857, Val: 0.8040, Test: 0.8250\n",
      "Epoch: 091, Train: 0.9857, Val: 0.8060, Test: 0.8280\n",
      "Epoch: 092, Train: 0.9857, Val: 0.8100, Test: 0.8280\n",
      "Epoch: 093, Train: 0.9857, Val: 0.8120, Test: 0.8300\n",
      "Epoch: 094, Train: 0.9857, Val: 0.8180, Test: 0.8300\n",
      "Epoch: 095, Train: 0.9857, Val: 0.8160, Test: 0.8340\n",
      "Epoch: 096, Train: 0.9857, Val: 0.8160, Test: 0.8360\n",
      "Epoch: 097, Train: 0.9857, Val: 0.8140, Test: 0.8360\n",
      "Epoch: 098, Train: 0.9857, Val: 0.8140, Test: 0.8360\n",
      "Epoch: 099, Train: 0.9857, Val: 0.8080, Test: 0.8370\n",
      "Epoch: 100, Train: 0.9857, Val: 0.8060, Test: 0.8290\n",
      "Epoch: 101, Train: 0.9857, Val: 0.8040, Test: 0.8230\n",
      "Epoch: 102, Train: 0.9857, Val: 0.8080, Test: 0.8220\n",
      "Epoch: 103, Train: 0.9857, Val: 0.8040, Test: 0.8220\n",
      "Epoch: 104, Train: 0.9857, Val: 0.7980, Test: 0.8120\n",
      "Epoch: 105, Train: 0.9857, Val: 0.7980, Test: 0.8120\n",
      "Epoch: 106, Train: 0.9857, Val: 0.8020, Test: 0.8130\n",
      "Epoch: 107, Train: 0.9857, Val: 0.7980, Test: 0.8140\n",
      "Epoch: 108, Train: 0.9857, Val: 0.7940, Test: 0.8130\n",
      "Epoch: 109, Train: 0.9857, Val: 0.7940, Test: 0.8130\n",
      "Epoch: 110, Train: 0.9857, Val: 0.7900, Test: 0.8140\n",
      "Epoch: 111, Train: 0.9857, Val: 0.7920, Test: 0.8160\n",
      "Epoch: 112, Train: 0.9857, Val: 0.7900, Test: 0.8180\n",
      "Epoch: 113, Train: 0.9857, Val: 0.7920, Test: 0.8190\n",
      "Epoch: 114, Train: 0.9857, Val: 0.7920, Test: 0.8200\n",
      "Epoch: 115, Train: 0.9857, Val: 0.7960, Test: 0.8240\n",
      "Epoch: 116, Train: 0.9857, Val: 0.7900, Test: 0.8210\n",
      "Epoch: 117, Train: 0.9857, Val: 0.7940, Test: 0.8210\n",
      "Epoch: 118, Train: 0.9857, Val: 0.7920, Test: 0.8220\n",
      "Epoch: 119, Train: 0.9857, Val: 0.7920, Test: 0.8230\n",
      "Epoch: 120, Train: 0.9857, Val: 0.8000, Test: 0.8250\n",
      "Epoch: 121, Train: 0.9857, Val: 0.8080, Test: 0.8240\n",
      "Epoch: 122, Train: 0.9857, Val: 0.8120, Test: 0.8260\n",
      "Epoch: 123, Train: 0.9857, Val: 0.8120, Test: 0.8270\n",
      "Epoch: 124, Train: 0.9857, Val: 0.8140, Test: 0.8290\n",
      "Epoch: 125, Train: 0.9857, Val: 0.8120, Test: 0.8290\n",
      "Epoch: 126, Train: 0.9857, Val: 0.8180, Test: 0.8310\n",
      "Epoch: 127, Train: 0.9857, Val: 0.8180, Test: 0.8300\n",
      "Epoch: 128, Train: 0.9857, Val: 0.8180, Test: 0.8290\n",
      "Epoch: 129, Train: 0.9857, Val: 0.8160, Test: 0.8300\n",
      "Epoch: 130, Train: 0.9857, Val: 0.8120, Test: 0.8310\n",
      "Epoch: 131, Train: 0.9857, Val: 0.8060, Test: 0.8270\n",
      "Epoch: 132, Train: 0.9857, Val: 0.8060, Test: 0.8260\n",
      "Epoch: 133, Train: 0.9857, Val: 0.8020, Test: 0.8240\n",
      "Epoch: 134, Train: 0.9857, Val: 0.7960, Test: 0.8240\n",
      "Epoch: 135, Train: 0.9857, Val: 0.7960, Test: 0.8220\n",
      "Epoch: 136, Train: 0.9857, Val: 0.8000, Test: 0.8170\n",
      "Epoch: 137, Train: 0.9857, Val: 0.7980, Test: 0.8180\n",
      "Epoch: 138, Train: 0.9857, Val: 0.7960, Test: 0.8140\n",
      "Epoch: 139, Train: 0.9857, Val: 0.7980, Test: 0.8160\n",
      "Epoch: 140, Train: 0.9857, Val: 0.7980, Test: 0.8160\n",
      "Epoch: 141, Train: 0.9857, Val: 0.8000, Test: 0.8220\n",
      "Epoch: 142, Train: 0.9857, Val: 0.8000, Test: 0.8280\n",
      "Epoch: 143, Train: 0.9857, Val: 0.8040, Test: 0.8300\n",
      "Epoch: 144, Train: 0.9857, Val: 0.8040, Test: 0.8300\n",
      "Epoch: 145, Train: 0.9857, Val: 0.8080, Test: 0.8250\n",
      "Epoch: 146, Train: 0.9857, Val: 0.8060, Test: 0.8230\n",
      "Epoch: 147, Train: 0.9857, Val: 0.8040, Test: 0.8220\n",
      "Epoch: 148, Train: 0.9857, Val: 0.8020, Test: 0.8230\n",
      "Epoch: 149, Train: 0.9857, Val: 0.8000, Test: 0.8230\n",
      "Epoch: 150, Train: 0.9857, Val: 0.7960, Test: 0.8250\n",
      "Epoch: 151, Train: 0.9857, Val: 0.7900, Test: 0.8240\n",
      "Epoch: 152, Train: 0.9857, Val: 0.7920, Test: 0.8240\n",
      "Epoch: 153, Train: 0.9857, Val: 0.7920, Test: 0.8220\n",
      "Epoch: 154, Train: 0.9857, Val: 0.7940, Test: 0.8200\n",
      "Epoch: 155, Train: 0.9857, Val: 0.7960, Test: 0.8200\n",
      "Epoch: 156, Train: 0.9857, Val: 0.7980, Test: 0.8200\n",
      "Epoch: 157, Train: 0.9857, Val: 0.8020, Test: 0.8190\n",
      "Epoch: 158, Train: 0.9857, Val: 0.8000, Test: 0.8190\n",
      "Epoch: 159, Train: 0.9857, Val: 0.7980, Test: 0.8210\n",
      "Epoch: 160, Train: 0.9929, Val: 0.8040, Test: 0.8250\n",
      "Epoch: 161, Train: 0.9929, Val: 0.8040, Test: 0.8300\n",
      "Epoch: 162, Train: 0.9929, Val: 0.8060, Test: 0.8290\n",
      "Epoch: 163, Train: 0.9929, Val: 0.8040, Test: 0.8310\n",
      "Epoch: 164, Train: 0.9929, Val: 0.8060, Test: 0.8320\n",
      "Epoch: 165, Train: 0.9929, Val: 0.8080, Test: 0.8300\n",
      "Epoch: 166, Train: 0.9929, Val: 0.8040, Test: 0.8300\n",
      "Epoch: 167, Train: 0.9929, Val: 0.8080, Test: 0.8320\n",
      "Epoch: 168, Train: 0.9929, Val: 0.8120, Test: 0.8320\n",
      "Epoch: 169, Train: 0.9929, Val: 0.8100, Test: 0.8310\n",
      "Epoch: 170, Train: 0.9929, Val: 0.8080, Test: 0.8310\n",
      "Epoch: 171, Train: 0.9929, Val: 0.8080, Test: 0.8300\n",
      "Epoch: 172, Train: 0.9929, Val: 0.8100, Test: 0.8310\n",
      "Epoch: 173, Train: 0.9929, Val: 0.8100, Test: 0.8290\n",
      "Epoch: 174, Train: 0.9929, Val: 0.8100, Test: 0.8300\n",
      "Epoch: 175, Train: 0.9857, Val: 0.8020, Test: 0.8220\n",
      "Epoch: 176, Train: 0.9857, Val: 0.8020, Test: 0.8210\n",
      "Epoch: 177, Train: 0.9857, Val: 0.8000, Test: 0.8190\n",
      "Epoch: 178, Train: 0.9857, Val: 0.8020, Test: 0.8240\n",
      "Epoch: 179, Train: 0.9857, Val: 0.8020, Test: 0.8260\n",
      "Epoch: 180, Train: 0.9929, Val: 0.8060, Test: 0.8250\n",
      "Epoch: 181, Train: 0.9929, Val: 0.8080, Test: 0.8230\n",
      "Epoch: 182, Train: 0.9929, Val: 0.8060, Test: 0.8230\n",
      "Epoch: 183, Train: 0.9929, Val: 0.8080, Test: 0.8230\n",
      "Epoch: 184, Train: 0.9929, Val: 0.8060, Test: 0.8200\n",
      "Epoch: 185, Train: 0.9929, Val: 0.8040, Test: 0.8170\n",
      "Epoch: 186, Train: 0.9929, Val: 0.8060, Test: 0.8140\n",
      "Epoch: 187, Train: 0.9929, Val: 0.8080, Test: 0.8170\n",
      "Epoch: 188, Train: 0.9929, Val: 0.8060, Test: 0.8190\n",
      "Epoch: 189, Train: 0.9929, Val: 0.8040, Test: 0.8190\n",
      "Epoch: 190, Train: 0.9929, Val: 0.8060, Test: 0.8180\n",
      "Epoch: 191, Train: 0.9929, Val: 0.8060, Test: 0.8170\n",
      "Epoch: 192, Train: 0.9929, Val: 0.8040, Test: 0.8200\n",
      "Epoch: 193, Train: 0.9929, Val: 0.8020, Test: 0.8170\n",
      "Epoch: 194, Train: 0.9929, Val: 0.8020, Test: 0.8200\n",
      "Epoch: 195, Train: 0.9929, Val: 0.8040, Test: 0.8200\n",
      "Epoch: 196, Train: 0.9929, Val: 0.8020, Test: 0.8210\n",
      "Epoch: 197, Train: 0.9929, Val: 0.8020, Test: 0.8190\n",
      "Epoch: 198, Train: 0.9929, Val: 0.7980, Test: 0.8210\n",
      "Epoch: 199, Train: 0.9929, Val: 0.8000, Test: 0.8190\n",
      "Epoch: 200, Train: 0.9929, Val: 0.8020, Test: 0.8200\n"
     ]
    }
   ],
   "source": [
    "import os.path as osp\n",
    "\n",
    "import torch\n",
    "import torch.nn.functional as F\n",
    "from torch_geometric.datasets import Planetoid\n",
    "import torch_geometric.transforms as T\n",
    "from torch_geometric.nn import GATConv\n",
    "\n",
    "dataset = 'Cora'\n",
    "\n",
    "path = osp.join(osp.dirname(osp.realpath('data/cora/raw')), '..', 'data', dataset)\n",
    "dataset = Planetoid(path, dataset, T.NormalizeFeatures())\n",
    "data = dataset[0]\n",
    "\n",
    "\n",
    "class Net(torch.nn.Module):\n",
    "    def __init__(self):\n",
    "        super(Net, self).__init__()\n",
    "        self.conv1 = GATConv(dataset.num_features, 8, heads=8, dropout=0.6)\n",
    "        # On the Pubmed dataset, use heads=8 in conv2.\n",
    "        self.conv2 = GATConv(\n",
    "            8 * 8, dataset.num_classes, heads=1, concat=True, dropout=0.6)\n",
    "\n",
    "    def forward(self):\n",
    "        # how come there is no need for average before last non-linear layer?? \n",
    "        x = F.dropout(data.x, p=0.6, training=self.training)\n",
    "        x = F.elu(self.conv1(x, data.edge_index))\n",
    "        x = F.dropout(x, p=0.6, training=self.training)\n",
    "        x = self.conv2(x, data.edge_index)\n",
    "        return F.log_softmax(x, dim=1)\n",
    "\n",
    "\n",
    "device = torch.device('cuda' if torch.cuda.is_available() else 'cpu')\n",
    "model, data = Net().to(device), data.to(device)\n",
    "optimizer = torch.optim.Adam(model.parameters(), lr=0.005, weight_decay=5e-4)\n",
    "\n",
    "\n",
    "def train():\n",
    "    model.train()\n",
    "    optimizer.zero_grad()\n",
    "    F.nll_loss(model()[data.train_mask], data.y[data.train_mask]).backward()\n",
    "    optimizer.step()\n",
    "\n",
    "\n",
    "def test():\n",
    "    model.eval()\n",
    "    logits, accs = model(), []\n",
    "    for _, mask in data('train_mask', 'val_mask', 'test_mask'):\n",
    "        pred = logits[mask].max(1)[1]\n",
    "        acc = pred.eq(data.y[mask]).sum().item() / mask.sum().item()\n",
    "        accs.append(acc)\n",
    "    return accs\n",
    "\n",
    "\n",
    "for epoch in range(1, 201):\n",
    "    train()\n",
    "    log = 'Epoch: {:03d}, Train: {:.4f}, Val: {:.4f}, Test: {:.4f}'\n",
    "    print(log.format(epoch, *test()))"
   ]
  },
  {
   "cell_type": "code",
   "execution_count": 23,
   "metadata": {},
   "outputs": [
    {
     "name": "stdout",
     "output_type": "stream",
     "text": [
      "Epoch: 001, Train: 0.1500, Val: 0.1140, Test: 0.1100\n",
      "Epoch: 002, Train: 0.2143, Val: 0.1320, Test: 0.1390\n",
      "Epoch: 003, Train: 0.3143, Val: 0.1860, Test: 0.2000\n",
      "Epoch: 004, Train: 0.3571, Val: 0.2140, Test: 0.2290\n",
      "Epoch: 005, Train: 0.4571, Val: 0.2640, Test: 0.2920\n",
      "Epoch: 006, Train: 0.4714, Val: 0.3080, Test: 0.3320\n",
      "Epoch: 007, Train: 0.5571, Val: 0.3340, Test: 0.3670\n",
      "Epoch: 008, Train: 0.6929, Val: 0.4560, Test: 0.4600\n",
      "Epoch: 009, Train: 0.8071, Val: 0.6520, Test: 0.6800\n",
      "Epoch: 010, Train: 0.8286, Val: 0.6860, Test: 0.7120\n",
      "Epoch: 011, Train: 0.8071, Val: 0.6760, Test: 0.6970\n",
      "Epoch: 012, Train: 0.7714, Val: 0.6580, Test: 0.6750\n",
      "Epoch: 013, Train: 0.7714, Val: 0.6540, Test: 0.6720\n",
      "Epoch: 014, Train: 0.7500, Val: 0.6620, Test: 0.6830\n",
      "Epoch: 015, Train: 0.7500, Val: 0.6820, Test: 0.6910\n",
      "Epoch: 016, Train: 0.8000, Val: 0.7080, Test: 0.7160\n",
      "Epoch: 017, Train: 0.8357, Val: 0.7260, Test: 0.7280\n",
      "Epoch: 018, Train: 0.8429, Val: 0.7260, Test: 0.7370\n",
      "Epoch: 019, Train: 0.8500, Val: 0.7140, Test: 0.7260\n",
      "Epoch: 020, Train: 0.8357, Val: 0.6720, Test: 0.6950\n",
      "Epoch: 021, Train: 0.8286, Val: 0.6460, Test: 0.6680\n",
      "Epoch: 022, Train: 0.8286, Val: 0.6160, Test: 0.6490\n",
      "Epoch: 023, Train: 0.8000, Val: 0.6040, Test: 0.6470\n",
      "Epoch: 024, Train: 0.8143, Val: 0.6020, Test: 0.6320\n",
      "Epoch: 025, Train: 0.8286, Val: 0.6100, Test: 0.6210\n",
      "Epoch: 026, Train: 0.8357, Val: 0.6240, Test: 0.6310\n",
      "Epoch: 027, Train: 0.8429, Val: 0.6180, Test: 0.6100\n",
      "Epoch: 028, Train: 0.8429, Val: 0.6100, Test: 0.6070\n",
      "Epoch: 029, Train: 0.8500, Val: 0.6380, Test: 0.6390\n",
      "Epoch: 030, Train: 0.8714, Val: 0.6500, Test: 0.6430\n",
      "Epoch: 031, Train: 0.8571, Val: 0.6500, Test: 0.6420\n",
      "Epoch: 032, Train: 0.8500, Val: 0.6680, Test: 0.6620\n",
      "Epoch: 033, Train: 0.8571, Val: 0.7020, Test: 0.7030\n",
      "Epoch: 034, Train: 0.8857, Val: 0.7220, Test: 0.7190\n",
      "Epoch: 035, Train: 0.9000, Val: 0.7500, Test: 0.7360\n",
      "Epoch: 036, Train: 0.9000, Val: 0.7740, Test: 0.7520\n",
      "Epoch: 037, Train: 0.9000, Val: 0.7620, Test: 0.7650\n",
      "Epoch: 038, Train: 0.8929, Val: 0.7520, Test: 0.7620\n",
      "Epoch: 039, Train: 0.8714, Val: 0.7360, Test: 0.7390\n",
      "Epoch: 040, Train: 0.8571, Val: 0.7200, Test: 0.7200\n",
      "Epoch: 041, Train: 0.8429, Val: 0.7000, Test: 0.6990\n",
      "Epoch: 042, Train: 0.8429, Val: 0.6540, Test: 0.6740\n",
      "Epoch: 043, Train: 0.8143, Val: 0.6260, Test: 0.6420\n",
      "Epoch: 044, Train: 0.8071, Val: 0.6040, Test: 0.6210\n",
      "Epoch: 045, Train: 0.8000, Val: 0.6020, Test: 0.6140\n",
      "Epoch: 046, Train: 0.8143, Val: 0.6040, Test: 0.6240\n",
      "Epoch: 047, Train: 0.8286, Val: 0.6220, Test: 0.6380\n",
      "Epoch: 048, Train: 0.8500, Val: 0.6420, Test: 0.6590\n",
      "Epoch: 049, Train: 0.8429, Val: 0.6620, Test: 0.6730\n",
      "Epoch: 050, Train: 0.8357, Val: 0.6760, Test: 0.6670\n",
      "Epoch: 051, Train: 0.8357, Val: 0.6700, Test: 0.6570\n",
      "Epoch: 052, Train: 0.8429, Val: 0.6680, Test: 0.6440\n",
      "Epoch: 053, Train: 0.8500, Val: 0.6660, Test: 0.6470\n",
      "Epoch: 054, Train: 0.8500, Val: 0.6500, Test: 0.6240\n",
      "Epoch: 055, Train: 0.8357, Val: 0.6440, Test: 0.6260\n",
      "Epoch: 056, Train: 0.8429, Val: 0.6380, Test: 0.6320\n",
      "Epoch: 057, Train: 0.8214, Val: 0.6400, Test: 0.6310\n",
      "Epoch: 058, Train: 0.8286, Val: 0.6520, Test: 0.6490\n",
      "Epoch: 059, Train: 0.8357, Val: 0.6600, Test: 0.6700\n",
      "Epoch: 060, Train: 0.8500, Val: 0.6740, Test: 0.6770\n",
      "Epoch: 061, Train: 0.8500, Val: 0.6820, Test: 0.6830\n",
      "Epoch: 062, Train: 0.8500, Val: 0.6980, Test: 0.6990\n",
      "Epoch: 063, Train: 0.8571, Val: 0.7140, Test: 0.7100\n",
      "Epoch: 064, Train: 0.8571, Val: 0.7200, Test: 0.7160\n",
      "Epoch: 065, Train: 0.8500, Val: 0.7120, Test: 0.7100\n",
      "Epoch: 066, Train: 0.8571, Val: 0.6980, Test: 0.7060\n",
      "Epoch: 067, Train: 0.8429, Val: 0.6980, Test: 0.7040\n",
      "Epoch: 068, Train: 0.8571, Val: 0.6920, Test: 0.6980\n",
      "Epoch: 069, Train: 0.8714, Val: 0.6940, Test: 0.6990\n",
      "Epoch: 070, Train: 0.8571, Val: 0.6960, Test: 0.6870\n",
      "Epoch: 071, Train: 0.8429, Val: 0.6640, Test: 0.6630\n",
      "Epoch: 072, Train: 0.8286, Val: 0.6260, Test: 0.6340\n",
      "Epoch: 073, Train: 0.7929, Val: 0.5980, Test: 0.6060\n",
      "Epoch: 074, Train: 0.7929, Val: 0.5800, Test: 0.5960\n",
      "Epoch: 075, Train: 0.7857, Val: 0.5800, Test: 0.5920\n",
      "Epoch: 076, Train: 0.7786, Val: 0.5740, Test: 0.5910\n",
      "Epoch: 077, Train: 0.7786, Val: 0.5740, Test: 0.5820\n",
      "Epoch: 078, Train: 0.7786, Val: 0.5820, Test: 0.5850\n",
      "Epoch: 079, Train: 0.7714, Val: 0.5720, Test: 0.5740\n",
      "Epoch: 080, Train: 0.7357, Val: 0.5620, Test: 0.5580\n",
      "Epoch: 081, Train: 0.7500, Val: 0.5500, Test: 0.5360\n",
      "Epoch: 082, Train: 0.7500, Val: 0.5580, Test: 0.5340\n",
      "Epoch: 083, Train: 0.7429, Val: 0.5520, Test: 0.5360\n",
      "Epoch: 084, Train: 0.7429, Val: 0.5580, Test: 0.5390\n",
      "Epoch: 085, Train: 0.7429, Val: 0.5600, Test: 0.5380\n",
      "Epoch: 086, Train: 0.7429, Val: 0.5580, Test: 0.5400\n",
      "Epoch: 087, Train: 0.7286, Val: 0.5540, Test: 0.5520\n",
      "Epoch: 088, Train: 0.7357, Val: 0.5520, Test: 0.5450\n",
      "Epoch: 089, Train: 0.7500, Val: 0.5500, Test: 0.5410\n",
      "Epoch: 090, Train: 0.7429, Val: 0.5580, Test: 0.5430\n",
      "Epoch: 091, Train: 0.7571, Val: 0.5760, Test: 0.5470\n",
      "Epoch: 092, Train: 0.7643, Val: 0.5820, Test: 0.5540\n",
      "Epoch: 093, Train: 0.7643, Val: 0.5840, Test: 0.5670\n",
      "Epoch: 094, Train: 0.7571, Val: 0.5980, Test: 0.5850\n",
      "Epoch: 095, Train: 0.7786, Val: 0.6080, Test: 0.5960\n",
      "Epoch: 096, Train: 0.8000, Val: 0.6220, Test: 0.6060\n",
      "Epoch: 097, Train: 0.8071, Val: 0.6260, Test: 0.6210\n",
      "Epoch: 098, Train: 0.8286, Val: 0.6320, Test: 0.6160\n",
      "Epoch: 099, Train: 0.8357, Val: 0.6320, Test: 0.6160\n",
      "Epoch: 100, Train: 0.8357, Val: 0.6260, Test: 0.6150\n",
      "Epoch: 101, Train: 0.8286, Val: 0.6260, Test: 0.6150\n",
      "Epoch: 102, Train: 0.8214, Val: 0.6120, Test: 0.6020\n",
      "Epoch: 103, Train: 0.8000, Val: 0.5940, Test: 0.5890\n",
      "Epoch: 104, Train: 0.7786, Val: 0.5660, Test: 0.5740\n",
      "Epoch: 105, Train: 0.7643, Val: 0.5480, Test: 0.5570\n",
      "Epoch: 106, Train: 0.7643, Val: 0.5340, Test: 0.5490\n",
      "Epoch: 107, Train: 0.7714, Val: 0.5320, Test: 0.5410\n",
      "Epoch: 108, Train: 0.7714, Val: 0.5340, Test: 0.5340\n",
      "Epoch: 109, Train: 0.7643, Val: 0.5340, Test: 0.5350\n",
      "Epoch: 110, Train: 0.7786, Val: 0.5320, Test: 0.5350\n",
      "Epoch: 111, Train: 0.7857, Val: 0.5460, Test: 0.5370\n",
      "Epoch: 112, Train: 0.7714, Val: 0.5440, Test: 0.5360\n",
      "Epoch: 113, Train: 0.7714, Val: 0.5480, Test: 0.5390\n",
      "Epoch: 114, Train: 0.7714, Val: 0.5540, Test: 0.5410\n",
      "Epoch: 115, Train: 0.7714, Val: 0.5540, Test: 0.5450\n",
      "Epoch: 116, Train: 0.7786, Val: 0.5620, Test: 0.5500\n",
      "Epoch: 117, Train: 0.7929, Val: 0.5720, Test: 0.5520\n",
      "Epoch: 118, Train: 0.7929, Val: 0.5720, Test: 0.5540\n",
      "Epoch: 119, Train: 0.7857, Val: 0.5740, Test: 0.5570\n",
      "Epoch: 120, Train: 0.7714, Val: 0.5780, Test: 0.5580\n",
      "Epoch: 121, Train: 0.8071, Val: 0.5880, Test: 0.5700\n",
      "Epoch: 122, Train: 0.8000, Val: 0.6040, Test: 0.5830\n",
      "Epoch: 123, Train: 0.8000, Val: 0.6060, Test: 0.5880\n",
      "Epoch: 124, Train: 0.8071, Val: 0.6160, Test: 0.5980\n",
      "Epoch: 125, Train: 0.8357, Val: 0.6280, Test: 0.6150\n",
      "Epoch: 126, Train: 0.8357, Val: 0.6340, Test: 0.6260\n",
      "Epoch: 127, Train: 0.8357, Val: 0.6320, Test: 0.6220\n",
      "Epoch: 128, Train: 0.8357, Val: 0.6280, Test: 0.6230\n",
      "Epoch: 129, Train: 0.8357, Val: 0.6260, Test: 0.6220\n",
      "Epoch: 130, Train: 0.8357, Val: 0.6280, Test: 0.6220\n",
      "Epoch: 131, Train: 0.8286, Val: 0.6180, Test: 0.6130\n",
      "Epoch: 132, Train: 0.8143, Val: 0.6120, Test: 0.6070\n",
      "Epoch: 133, Train: 0.8071, Val: 0.5960, Test: 0.5940\n",
      "Epoch: 134, Train: 0.8000, Val: 0.5800, Test: 0.5730\n",
      "Epoch: 135, Train: 0.7571, Val: 0.5740, Test: 0.5600\n",
      "Epoch: 136, Train: 0.7357, Val: 0.5560, Test: 0.5430\n",
      "Epoch: 137, Train: 0.7286, Val: 0.5380, Test: 0.5250\n",
      "Epoch: 138, Train: 0.7286, Val: 0.5340, Test: 0.5160\n",
      "Epoch: 139, Train: 0.7357, Val: 0.5260, Test: 0.5090\n",
      "Epoch: 140, Train: 0.7429, Val: 0.5220, Test: 0.5120\n",
      "Epoch: 141, Train: 0.7500, Val: 0.5320, Test: 0.5160\n",
      "Epoch: 142, Train: 0.7714, Val: 0.5380, Test: 0.5180\n",
      "Epoch: 143, Train: 0.7571, Val: 0.5340, Test: 0.5190\n",
      "Epoch: 144, Train: 0.7500, Val: 0.5340, Test: 0.5180\n",
      "Epoch: 145, Train: 0.7500, Val: 0.5320, Test: 0.5170\n",
      "Epoch: 146, Train: 0.7500, Val: 0.5260, Test: 0.5110\n",
      "Epoch: 147, Train: 0.7429, Val: 0.5140, Test: 0.5070\n",
      "Epoch: 148, Train: 0.7429, Val: 0.5120, Test: 0.5070\n",
      "Epoch: 149, Train: 0.7357, Val: 0.5140, Test: 0.5080\n",
      "Epoch: 150, Train: 0.7357, Val: 0.5160, Test: 0.5030\n",
      "Epoch: 151, Train: 0.7429, Val: 0.5100, Test: 0.5010\n",
      "Epoch: 152, Train: 0.7429, Val: 0.5080, Test: 0.5010\n",
      "Epoch: 153, Train: 0.7429, Val: 0.5080, Test: 0.5040\n",
      "Epoch: 154, Train: 0.7429, Val: 0.5160, Test: 0.5100\n",
      "Epoch: 155, Train: 0.7500, Val: 0.5220, Test: 0.5130\n",
      "Epoch: 156, Train: 0.7643, Val: 0.5240, Test: 0.5130\n",
      "Epoch: 157, Train: 0.7643, Val: 0.5260, Test: 0.5160\n",
      "Epoch: 158, Train: 0.7714, Val: 0.5300, Test: 0.5220\n",
      "Epoch: 159, Train: 0.7786, Val: 0.5320, Test: 0.5280\n",
      "Epoch: 160, Train: 0.7857, Val: 0.5400, Test: 0.5360\n",
      "Epoch: 161, Train: 0.7857, Val: 0.5500, Test: 0.5450\n",
      "Epoch: 162, Train: 0.7929, Val: 0.5520, Test: 0.5510\n",
      "Epoch: 163, Train: 0.8071, Val: 0.5500, Test: 0.5560\n",
      "Epoch: 164, Train: 0.8071, Val: 0.5600, Test: 0.5690\n",
      "Epoch: 165, Train: 0.8071, Val: 0.5660, Test: 0.5770\n",
      "Epoch: 166, Train: 0.8071, Val: 0.5720, Test: 0.5820\n",
      "Epoch: 167, Train: 0.8071, Val: 0.5840, Test: 0.5830\n",
      "Epoch: 168, Train: 0.8143, Val: 0.5960, Test: 0.5970\n",
      "Epoch: 169, Train: 0.8143, Val: 0.5960, Test: 0.5990\n",
      "Epoch: 170, Train: 0.8214, Val: 0.6060, Test: 0.6030\n",
      "Epoch: 171, Train: 0.8286, Val: 0.6100, Test: 0.6070\n",
      "Epoch: 172, Train: 0.8286, Val: 0.6040, Test: 0.6030\n",
      "Epoch: 173, Train: 0.8286, Val: 0.5960, Test: 0.6030\n",
      "Epoch: 174, Train: 0.8214, Val: 0.5960, Test: 0.5990\n",
      "Epoch: 175, Train: 0.8286, Val: 0.5900, Test: 0.5990\n",
      "Epoch: 176, Train: 0.8214, Val: 0.5900, Test: 0.5970\n",
      "Epoch: 177, Train: 0.8214, Val: 0.6000, Test: 0.5990\n",
      "Epoch: 178, Train: 0.8214, Val: 0.6060, Test: 0.6050\n",
      "Epoch: 179, Train: 0.8286, Val: 0.6200, Test: 0.6140\n",
      "Epoch: 180, Train: 0.8500, Val: 0.6180, Test: 0.6110\n",
      "Epoch: 181, Train: 0.8429, Val: 0.6140, Test: 0.6080\n",
      "Epoch: 182, Train: 0.8357, Val: 0.6080, Test: 0.5980\n",
      "Epoch: 183, Train: 0.8429, Val: 0.5960, Test: 0.5930\n",
      "Epoch: 184, Train: 0.8286, Val: 0.5920, Test: 0.5890\n",
      "Epoch: 185, Train: 0.8143, Val: 0.5780, Test: 0.5750\n",
      "Epoch: 186, Train: 0.8071, Val: 0.5680, Test: 0.5600\n",
      "Epoch: 187, Train: 0.8071, Val: 0.5620, Test: 0.5540\n",
      "Epoch: 188, Train: 0.8071, Val: 0.5560, Test: 0.5490\n",
      "Epoch: 189, Train: 0.8071, Val: 0.5500, Test: 0.5480\n",
      "Epoch: 190, Train: 0.8071, Val: 0.5500, Test: 0.5500\n",
      "Epoch: 191, Train: 0.8000, Val: 0.5460, Test: 0.5440\n",
      "Epoch: 192, Train: 0.8000, Val: 0.5460, Test: 0.5490\n",
      "Epoch: 193, Train: 0.8071, Val: 0.5480, Test: 0.5590\n",
      "Epoch: 194, Train: 0.8143, Val: 0.5600, Test: 0.5690\n",
      "Epoch: 195, Train: 0.8143, Val: 0.5800, Test: 0.5780\n",
      "Epoch: 196, Train: 0.8143, Val: 0.5820, Test: 0.5900\n",
      "Epoch: 197, Train: 0.8143, Val: 0.5900, Test: 0.6030\n",
      "Epoch: 198, Train: 0.8143, Val: 0.6000, Test: 0.6020\n",
      "Epoch: 199, Train: 0.8143, Val: 0.5980, Test: 0.6070\n",
      "Epoch: 200, Train: 0.8143, Val: 0.5960, Test: 0.6100\n"
     ]
    }
   ],
   "source": [
    "import os.path as osp\n",
    "\n",
    "import torch\n",
    "import torch.nn.functional as F\n",
    "from torch_geometric.datasets import Planetoid\n",
    "import torch_geometric.transforms as T\n",
    "from torch_geometric.nn import GATConv\n",
    "\n",
    "dataset = 'Cora'\n",
    "\n",
    "path = osp.join(osp.dirname(osp.realpath('data/data/Cora')), '..', 'data', dataset)\n",
    "dataset = Planetoid(path, dataset, T.NormalizeFeatures())\n",
    "data = dataset[0]\n",
    "\n",
    "\n",
    "class Net(torch.nn.Module):\n",
    "    def __init__(self):\n",
    "        super(Net, self).__init__()\n",
    "        self.conv1 = GATConv(dataset.num_features, 8, heads=8, dropout=0.6)\n",
    "        # On the Pubmed dataset, use heads=8 in conv2.\n",
    "        self.conv2 = GATConv(\n",
    "            8 * 8, dataset.num_classes, heads=1, concat=True, dropout=0.6)\n",
    "\n",
    "    def forward(self):\n",
    "        # how come there is no need for average before last non-linear layer?? \n",
    "        x = F.dropout(data.x, p=0.6, training=self.training)\n",
    "        x = F.elu(self.conv1(x, data.edge_index))\n",
    "        x = F.dropout(x, p=0.6, training=self.training)\n",
    "        x = 1/8 * self.conv2(x, data.edge_index)\n",
    "        return F.log_softmax(x, dim=1)\n",
    "\n",
    "\n",
    "device = torch.device('cuda' if torch.cuda.is_available() else 'cpu')\n",
    "model, data = Net().to(device), data.to(device)\n",
    "optimizer = torch.optim.Adam(model.parameters(), lr=0.005, weight_decay=5e-4)\n",
    "\n",
    "\n",
    "def train():\n",
    "    model.train()\n",
    "    optimizer.zero_grad()\n",
    "    F.nll_loss(model()[data.train_mask], data.y[data.train_mask]).backward()\n",
    "    optimizer.step()\n",
    "\n",
    "\n",
    "def test():\n",
    "    model.eval()\n",
    "    logits, accs = model(), []\n",
    "    for _, mask in data('train_mask', 'val_mask', 'test_mask'):\n",
    "        pred = logits[mask].max(1)[1]\n",
    "        acc = pred.eq(data.y[mask]).sum().item() / mask.sum().item()\n",
    "        accs.append(acc)\n",
    "    return accs\n",
    "\n",
    "\n",
    "for epoch in range(1, 201):\n",
    "    train()\n",
    "    log = 'Epoch: {:03d}, Train: {:.4f}, Val: {:.4f}, Test: {:.4f}'\n",
    "    print(log.format(epoch, *test()))"
   ]
  },
  {
   "cell_type": "code",
   "execution_count": 7,
   "metadata": {},
   "outputs": [
    {
     "data": {
      "image/png": "[encoded data removed]",
      "text/plain": [
       "<Figure size 432x288 with 1 Axes>"
      ]
     },
     "metadata": {
      "needs_background": "light"
     },
     "output_type": "display_data"
    }
   ],
   "source": [
    "import matplotlib.pyplot as plt\n",
    "x = [1,2,3,4]\n",
    "y = [1,3,4,5]\n",
    "label = [0,1,1,0]\n",
    "# plt.scatter(x,y,label=label)\n",
    "plt.scatter(x,y)\n",
    "plt.legend(label)\n",
    "plt.show()\n"
   ]
  },
  {
   "cell_type": "code",
   "execution_count": 26,
   "metadata": {},
   "outputs": [
    {
     "name": "stderr",
     "output_type": "stream",
     "text": [
      "'c' argument looks like a single numeric RGB or RGBA sequence, which should be avoided as value-mapping will have precedence in case its length matches with 'x' & 'y'.  Please use a 2-D array with a single row if you really want to specify the same RGB or RGBA value for all points.\n"
     ]
    },
    {
     "data": {
      "image/png": "[encoded data removed]",
      "text/plain": [
       "<Figure size 576x576 with 2 Axes>"
      ]
     },
     "metadata": {
      "needs_background": "light"
     },
     "output_type": "display_data"
    }
   ],
   "source": [
    "import matplotlib\n",
    "import matplotlib.pyplot as plt\n",
    "import numpy as np\n",
    "\n",
    "x = [4,8,12,16,1,4,9,16]\n",
    "y = [1,4,9,16,4,8,12,3]\n",
    "label = [0,1,2,3,0,1,2,3]\n",
    "colors = ['red','green','blue','purple']\n",
    "\n",
    "\n",
    "fig = plt.figure(figsize=(8,8))\n",
    "# plt.cm.get_cmap('hsv', 10, )\n",
    "plt.scatter(x, y,  c=label, cmap=matplotlib.colors.ListedColormap())\n",
    "# plt.scatter(x, y, c=label, cmap=matplotlib.colors.ListedColormap(colors))\n",
    "\n",
    "cb = plt.colorbar()\n",
    "loc = np.arange(0,max(label),max(label)/float(len(colors)))\n",
    "cb.set_ticks(loc)\n",
    "cb.set_ticklabels(colors)"
   ]
  },
  {
   "cell_type": "code",
   "execution_count": 17,
   "metadata": {},
   "outputs": [
    {
     "data": {
      "image/png": "[encoded data removed]",
      "text/plain": [
       "<Figure size 432x288 with 1 Axes>"
      ]
     },
     "metadata": {
      "needs_background": "light"
     },
     "output_type": "display_data"
    }
   ],
   "source": [
    "import matplotlib.pyplot as plt\n",
    "\n",
    "def get_cmap(n, name='hsv'):\n",
    "    '''Returns a function that maps each index in 0, 1, ..., n-1 to a distinct \n",
    "    RGB color; the keyword argument name must be a standard mpl colormap name.'''\n",
    "    return plt.cm.get_cmap(name, n)\n",
    "\n",
    "def main():\n",
    "    N = 4\n",
    "    fig=plt.figure()\n",
    "    ax=fig.add_subplot(111)   \n",
    "    plt.axis('scaled')\n",
    "    ax.set_xlim([ 0, N])\n",
    "    ax.set_ylim([-0.5, 0.5])\n",
    "    cmap = get_cmap(N)\n",
    "    for i in range(N):\n",
    "        rect = plt.Rectangle((i, -0.5), 1, 1, facecolor=cmap(i))\n",
    "        ax.add_artist(rect)\n",
    "    ax.set_yticks([])\n",
    "    plt.show()\n",
    "\n",
    "if __name__=='__main__':\n",
    "    main()"
   ]
  },
  {
   "cell_type": "code",
   "execution_count": 28,
   "metadata": {},
   "outputs": [
    {
     "name": "stdout",
     "output_type": "stream",
     "text": [
      "elif\n"
     ]
    }
   ],
   "source": [
    "if False:\n",
    "    print(\"if\")\n",
    "elif True:\n",
    "    print(\"elif\")\n",
    "else:\n",
    "    print(\"else\")"
   ]
  },
  {
   "cell_type": "code",
   "execution_count": 118,
   "metadata": {},
   "outputs": [
    {
     "name": "stdout",
     "output_type": "stream",
     "text": [
      "tensor([[-0.6258, -0.9976, -1.0214, -0.3826,  0.9424],\n",
      "        [ 0.4172,  0.8993, -0.7114,  1.5132, -0.4366],\n",
      "        [-1.1204,  0.5191,  1.2481,  0.6030, -0.2336]], requires_grad=True)\n"
     ]
    },
    {
     "name": "stderr",
     "output_type": "stream",
     "text": [
      "C:\\Users\\awannaphasch2016\\AppData\\Local\\Continuum\\anaconda3\\envs\\pytorch_python3.7\\lib\\site-packages\\ipykernel_launcher.py:15: UserWarning: Implicit dimension choice for log_softmax has been deprecated. Change the call to include dim=X as an argument.\n",
      "  from ipykernel import kernelapp as app\n"
     ]
    },
    {
     "name": "stdout",
     "output_type": "stream",
     "text": [
      "tensor([[-2.1325, -2.5043, -2.5281, -1.8893, -0.5643],\n",
      "        [-1.8501, -1.3681, -2.9788, -0.7542, -2.7040],\n",
      "        [-3.2134, -1.5740, -0.8450, -1.4900, -2.3266]],\n",
      "       grad_fn=<LogSoftmaxBackward>)\n",
      "tensor(-66.4673, dtype=torch.float64)\n"
     ]
    }
   ],
   "source": [
    "import torch\n",
    "import torch.nn.functional as F\n",
    "import numpy as np\n",
    "# input = torch.randn(3, 5, requires_grad=True)\n",
    "x = np.array([[100000,  100,  1.9125, -0.8701, -1.4935],\n",
    "        [100,  100000, -1.9865,  1.9137,  0.5035],\n",
    "        [ 1.1986, -1.1636, 100000, 10, -0.5981]])\n",
    "x = torch.tensor(x)\n",
    "# each element in target has to have 0 <= value < C\n",
    "target = torch.tensor([1, 0, 4])\n",
    "# output = F.nll_loss(F.log_softmax(input), target)\n",
    "output = F.nll_loss(x, target)\n",
    "# output.backward()\n",
    "print(input)\n",
    "print(F.log_softmax(input))\n",
    "print(output)"
   ]
  },
  {
   "cell_type": "code",
   "execution_count": 104,
   "metadata": {},
   "outputs": [
    {
     "name": "stdout",
     "output_type": "stream",
     "text": [
      "tensor([[-0.0163,  0.2736, -0.7971, -0.8804, -1.9788],\n",
      "        [-1.1030,  0.2063, -1.6021,  1.8479, -1.1519],\n",
      "        [ 1.4482,  0.9897, -0.5516, -0.9631,  2.0321]], requires_grad=True)\n",
      "tensor(-100., dtype=torch.float64)\n"
     ]
    }
   ],
   "source": [
    "import torch\n",
    "import torch.nn.functional as F\n",
    "import numpy as np\n",
    "input = torch.randn(3, 5, requires_grad=True)\n",
    "x = np.array([[0,  100,  100000, -0.8701, -1.4935],\n",
    "        [100,  10000, -1.9865,  1.9137,  0.5035],\n",
    "        [ 1.1986, -1.1636, 0, 10000, 100]])\n",
    "x = torch.tensor(x)\n",
    "# each element in target has to have 0 <= value < C\n",
    "target = torch.tensor([1, 0, 4])\n",
    "# output = F.nll_loss(F.log_softmax(input), target)\n",
    "output = F.nll_loss(x, target)\n",
    "# output.backward()\n",
    "print(input)\n",
    "# print(F.log_softmax(input))\n",
    "print(output)"
   ]
  },
  {
   "cell_type": "code",
   "execution_count": 113,
   "metadata": {},
   "outputs": [
    {
     "name": "stdout",
     "output_type": "stream",
     "text": [
      "tensor(-100., dtype=torch.float64)\n"
     ]
    }
   ],
   "source": [
    "import torch\n",
    "import torch.nn.functional as F\n",
    "import numpy as np\n",
    "# input = torch.randn(3, 5, requires_grad=True)\n",
    "x = np.array([[0,  100,  0, -0.8701, -1.4935],\n",
    "        [100,  0, -1.9865,  1.9137,  0.5035],\n",
    "        [ 1.1986, -1.1636, 0, 0, 100]])\n",
    "x = torch.tensor(x)\n",
    "# each element in target has to have 0 <= value < C\n",
    "target = torch.tensor([1, 0, 4])\n",
    "# output = F.nll_loss(F.log_softmax(input), target)\n",
    "output = F.nll_loss(x, target)\n",
    "# output.backward()\n",
    "# print(input)\n",
    "# print(F.log_softmax(input))\n",
    "print(output)"
   ]
  },
  {
   "cell_type": "code",
   "execution_count": 139,
   "metadata": {},
   "outputs": [
    {
     "name": "stdout",
     "output_type": "stream",
     "text": [
      "tensor(-100., dtype=torch.float64)\n"
     ]
    }
   ],
   "source": [
    "import torch\n",
    "import torch.nn.functional as F\n",
    "import numpy as np\n",
    "# x = torch.randn(3, 5, requires_grad=True)\n",
    "x = np.array([[0,  100,  0, 0.5, 5],\n",
    "        [100,  0, -1.4,  13,  0.545],\n",
    "        [ 1.1986, 0, 0, 0, 100]])\n",
    "x = torch.tensor(x)\n",
    "# each element in target has to have 0 <= value < C\n",
    "target = torch.tensor([1, 0, 4])\n",
    "# output = F.nll_loss(F.log_softmax(input), target)\n",
    "output = F.nll_loss(x, target)\n",
    "# output.backward()\n",
    "# print(input)\n",
    "# print(F.log_softmax(input))\n",
    "print(output)"
   ]
  },
  {
   "cell_type": "markdown",
   "metadata": {},
   "source": [
    "One_hot_vector"
   ]
  },
  {
   "cell_type": "code",
   "execution_count": 2,
   "metadata": {},
   "outputs": [],
   "source": [
    "from sklearn.preprocessing import OneHotEncoder"
   ]
  },
  {
   "cell_type": "code",
   "execution_count": 3,
   "metadata": {},
   "outputs": [
    {
     "data": {
      "text/plain": [
       "OneHotEncoder(categorical_features=None, categories=None, drop=None,\n",
       "              dtype=<class 'numpy.float64'>, handle_unknown='ignore',\n",
       "              n_values=None, sparse=True)"
      ]
     },
     "execution_count": 3,
     "metadata": {},
     "output_type": "execute_result"
    }
   ],
   "source": [
    "enc = OneHotEncoder(handle_unknown='ignore')\n",
    "X = [['Male', 1], ['Female', 3], ['Female', 2]]\n",
    "enc.fit(X)\n"
   ]
  },
  {
   "cell_type": "code",
   "execution_count": 4,
   "metadata": {},
   "outputs": [
    {
     "data": {
      "text/plain": [
       "[array(['Female', 'Male'], dtype=object), array([1, 2, 3], dtype=object)]"
      ]
     },
     "execution_count": 4,
     "metadata": {},
     "output_type": "execute_result"
    }
   ],
   "source": [
    "enc.categories_"
   ]
  },
  {
   "cell_type": "code",
   "execution_count": 8,
   "metadata": {},
   "outputs": [
    {
     "data": {
      "text/plain": [
       "array([[1., 0., 1., 0., 0.],\n",
       "       [0., 1., 0., 0., 0.],\n",
       "       [0., 0., 0., 0., 1.]])"
      ]
     },
     "execution_count": 8,
     "metadata": {},
     "output_type": "execute_result"
    }
   ],
   "source": [
    "enc.transform([['Female', 1], ['Male', 5], ['no',3]]).toarray()"
   ]
  },
  {
   "cell_type": "code",
   "execution_count": 16,
   "metadata": {},
   "outputs": [
    {
     "data": {
      "text/plain": [
       "array([['Male', 1],\n",
       "       [None, None]], dtype=object)"
      ]
     },
     "execution_count": 16,
     "metadata": {},
     "output_type": "execute_result"
    }
   ],
   "source": [
    "enc.inverse_transform([[0, 1, 1, 0, 0], [0, 0, 0, 0, 0]])"
   ]
  },
  {
   "cell_type": "code",
   "execution_count": 22,
   "metadata": {},
   "outputs": [
    {
     "name": "stdout",
     "output_type": "stream",
     "text": [
      "[(2, 999), (3, 3), (6, 777), (4, 666)]\n",
      "[[0 1 0 0 0 0 0]\n",
      " [1 0 0 0 0 0 0]\n",
      " [0 0 1 0 0 0 0]\n",
      " [0 0 0 0 1 0 0]\n",
      " [0 0 0 1 0 0 0]\n",
      " [0 0 0 0 0 0 1]\n",
      " [0 0 0 0 0 1 0]]\n"
     ]
    }
   ],
   "source": [
    "import networkx as nx \n",
    "edges = [(2,999),(3,3), (6,777), (4,666)]\n",
    "G = nx.Graph()\n",
    "G.add_edges_from(edges)\n",
    "# print(G.edges)\n",
    "print(G.edges)\n",
    "print(nx.adjacency_matrix(G).todense())"
   ]
  },
  {
   "cell_type": "code",
   "execution_count": 27,
   "metadata": {},
   "outputs": [
    {
     "name": "stdout",
     "output_type": "stream",
     "text": [
      "[[ 0  1  0  7 10  0]\n",
      " [ 1  0  9 11  0  9]\n",
      " [ 0  9  0  0 12  7]\n",
      " [ 7 11  0  0  8 14]\n",
      " [10  0 12  8  0  8]\n",
      " [ 0  9  7 14  8  0]]\n"
     ]
    }
   ],
   "source": [
    "import numpy\n",
    "\n",
    "def weighted_adjmatrix(adjlist, nodes):\n",
    "    '''Returns a (weighted) adjacency matrix as a NumPy array.'''\n",
    "    matrix = []\n",
    "    for node in nodes:\n",
    "        weights = {endnode:int(weight)\n",
    "                   for w in adjlist.get(node, {})\n",
    "                   for endnode, weight in w.items()}\n",
    "        matrix.append([weights.get(endnode, 0) for endnode in nodes])\n",
    "    matrix = numpy.array(matrix)\n",
    "    return matrix + matrix.transpose()\n",
    "\n",
    "graph = {'1': [{'2':'1'}, {'4':'7'}, {'5':'10'}],\n",
    "    '2': [{'3':'9'}, {'4':'11'}, {'6':'9'}],\n",
    "    '3': [{'5':'12'}, {'6':'7'}],\n",
    "    '4': [{'5':'8'}, {'6':'14'}],\n",
    "    '5': [{'6':'8'}]}\n",
    "x = weighted_adjmatrix(graph, nodes=list('123456'))\n",
    "print(x)"
   ]
  },
  {
   "cell_type": "code",
   "execution_count": 32,
   "metadata": {},
   "outputs": [
    {
     "name": "stdout",
     "output_type": "stream",
     "text": [
      "[0. 1. 2.]\n",
      "[[0. 1. 2.]\n",
      " [3. 4. 5.]\n",
      " [6. 7. 8.]]\n"
     ]
    }
   ],
   "source": [
    "import numpy as np\n",
    "x1 = np.arange(9.0).reshape((3, 3))\n",
    "x2 = np.arange(3.0)\n",
    "# np.add(x1,x2)\n",
    "print(x2)\n",
    "print(x1)"
   ]
  },
  {
   "cell_type": "code",
   "execution_count": 38,
   "metadata": {},
   "outputs": [
    {
     "name": "stdout",
     "output_type": "stream",
     "text": [
      "[0 1 2]\n"
     ]
    }
   ],
   "source": [
    "x = 0\n",
    "y = np.arange(3)\n",
    "x = np.add(x,y)\n",
    "print(x)"
   ]
  },
  {
   "cell_type": "code",
   "execution_count": 40,
   "metadata": {},
   "outputs": [
    {
     "data": {
      "text/plain": [
       "array([1, 2, 3])"
      ]
     },
     "execution_count": 40,
     "metadata": {},
     "output_type": "execute_result"
    }
   ],
   "source": [
    "1 + y"
   ]
  },
  {
   "cell_type": "markdown",
   "metadata": {},
   "source": [
    "Sparse matrix with scipy.sparse"
   ]
  },
  {
   "cell_type": "code",
   "execution_count": 46,
   "metadata": {},
   "outputs": [],
   "source": [
    "from scipy import sparse as sp\n",
    "from scipy.stats import uniform\n",
    "import numpy as np "
   ]
  },
  {
   "cell_type": "code",
   "execution_count": 43,
   "metadata": {},
   "outputs": [],
   "source": [
    "row_ind = np.array([0,1,1,3,4])\n",
    "col_ind = np.array([0,2,4,3,4])\n",
    "data = np.array([1,2,3,4,5], dtype=float)"
   ]
  },
  {
   "cell_type": "code",
   "execution_count": 47,
   "metadata": {},
   "outputs": [
    {
     "name": "stdout",
     "output_type": "stream",
     "text": [
      "  (0, 0)\t1.0\n",
      "  (1, 2)\t2.0\n",
      "  (1, 4)\t3.0\n",
      "  (3, 3)\t4.0\n",
      "  (4, 4)\t5.0\n"
     ]
    }
   ],
   "source": [
    "row_ind = np.array([0,1,1,3,4])\n",
    "col_ind = np.array([0,2,4,3,4])\n",
    "data = np.array([1,2,3,4,5], dtype=float)\n",
    "mat_coo = sp.coo_matrix((data, (row_ind, col_ind)))\n",
    "print(mat_coo)"
   ]
  },
  {
   "cell_type": "code",
   "execution_count": 48,
   "metadata": {},
   "outputs": [
    {
     "data": {
      "text/plain": [
       "array([[0.74908024, 1.90142861, 1.46398788, 1.19731697],\n",
       "       [0.31203728, 0.31198904, 0.11616722, 1.73235229],\n",
       "       [1.20223002, 1.41614516, 0.04116899, 1.9398197 ],\n",
       "       [1.66488528, 0.42467822, 0.36364993, 0.36680902]])"
      ]
     },
     "execution_count": 48,
     "metadata": {},
     "output_type": "execute_result"
    }
   ],
   "source": [
    "np.random.seed(seed=42)\n",
    "data = uniform.rvs(size=16, loc=0, scale=2)\n",
    "data = np.reshape(data, (4,4))\n",
    "data"
   ]
  },
  {
   "cell_type": "code",
   "execution_count": 51,
   "metadata": {},
   "outputs": [
    {
     "data": {
      "text/plain": [
       "array([[0.        , 1.90142861, 1.46398788, 1.19731697],\n",
       "       [0.        , 0.        , 0.        , 1.73235229],\n",
       "       [1.20223002, 1.41614516, 0.        , 1.9398197 ],\n",
       "       [1.66488528, 0.        , 0.        , 0.        ]])"
      ]
     },
     "execution_count": 51,
     "metadata": {},
     "output_type": "execute_result"
    }
   ],
   "source": [
    "data[data < 1] = 0\n",
    "data"
   ]
  },
  {
   "cell_type": "code",
   "execution_count": 52,
   "metadata": {},
   "outputs": [],
   "source": [
    "data_csr = sp.csr_matrix(data)"
   ]
  },
  {
   "cell_type": "code",
   "execution_count": 56,
   "metadata": {},
   "outputs": [
    {
     "name": "stdout",
     "output_type": "stream",
     "text": [
      "128\n"
     ]
    }
   ],
   "source": [
    "data_size = data.nbytes\n",
    "print(data_size)"
   ]
  },
  {
   "cell_type": "code",
   "execution_count": 57,
   "metadata": {},
   "outputs": [
    {
     "name": "stdout",
     "output_type": "stream",
     "text": [
      "8\n"
     ]
    }
   ],
   "source": [
    "data_csr = sp.csr_matrix(data)\n",
    "data_csr_size = data_csr.data.size/(1024**2)\n",
    "print(data_csr_size)"
   ]
  },
  {
   "cell_type": "code",
   "execution_count": 64,
   "metadata": {},
   "outputs": [
    {
     "name": "stdout",
     "output_type": "stream",
     "text": [
      "  (0, 0)\t1.0\n",
      "  (1, 2)\t2.0\n",
      "  (1, 4)\t3.0\n",
      "  (3, 3)\t4.0\n",
      "  (4, 4)\t5.0\n"
     ]
    }
   ],
   "source": [
    "row_ind = np.array([0,1,1,3,4])\n",
    "col_ind = np.array([0,2,4,3,4])\n",
    "data = np.array([1,2,3,4,5], dtype=float)\n",
    "mat_coo = sp.coo_matrix((data, (row_ind, col_ind)))\n",
    "print(mat_coo)"
   ]
  },
  {
   "cell_type": "code",
   "execution_count": 78,
   "metadata": {},
   "outputs": [
    {
     "name": "stdout",
     "output_type": "stream",
     "text": [
      "  (0, 0)\t1.0\n",
      "  (1, 0)\t3.0\n",
      "  (3, 0)\t4.0\n",
      "  (4, 0)\t5.0\n",
      "===\n",
      "  (0, 0)\t1.0\n",
      "  (0, 2)\t2.0\n",
      "  (0, 3)\t4.0\n",
      "  (0, 4)\t5.0\n"
     ]
    }
   ],
   "source": [
    "x = mat_coo.max(axis=1) # max value for each rows\n",
    "y = mat_coo.max(axis=0) # max value for each cols\n",
    "print(x)\n",
    "print(\"===\")\n",
    "print(y)"
   ]
  },
  {
   "cell_type": "code",
   "execution_count": 76,
   "metadata": {},
   "outputs": [
    {
     "data": {
      "text/plain": [
       "matrix([[1., 0., 0., 0., 0.],\n",
       "        [0., 0., 2., 0., 3.],\n",
       "        [0., 0., 0., 0., 0.],\n",
       "        [0., 0., 0., 4., 0.],\n",
       "        [0., 0., 0., 0., 5.]])"
      ]
     },
     "execution_count": 76,
     "metadata": {},
     "output_type": "execute_result"
    }
   ],
   "source": [
    "mat_coo.todense()"
   ]
  },
  {
   "cell_type": "code",
   "execution_count": 79,
   "metadata": {},
   "outputs": [
    {
     "data": {
      "text/plain": [
       "matrix([[1.],\n",
       "        [3.],\n",
       "        [0.],\n",
       "        [4.],\n",
       "        [5.]])"
      ]
     },
     "execution_count": 79,
     "metadata": {},
     "output_type": "execute_result"
    }
   ],
   "source": [
    "x.todense()"
   ]
  },
  {
   "cell_type": "code",
   "execution_count": 80,
   "metadata": {},
   "outputs": [
    {
     "data": {
      "text/plain": [
       "matrix([[1., 0., 2., 4., 5.]])"
      ]
     },
     "execution_count": 80,
     "metadata": {},
     "output_type": "execute_result"
    }
   ],
   "source": [
    "y.todense()"
   ]
  },
  {
   "cell_type": "code",
   "execution_count": 90,
   "metadata": {},
   "outputs": [
    {
     "name": "stdout",
     "output_type": "stream",
     "text": [
      "[[1. 0. 0. 0. 0. 1. 0. 0. 0. 0.]\n",
      " [0. 0. 2. 0. 3. 0. 0. 2. 0. 3.]\n",
      " [0. 0. 0. 0. 0. 0. 0. 0. 0. 0.]\n",
      " [0. 0. 0. 4. 0. 0. 0. 0. 4. 0.]\n",
      " [0. 0. 0. 0. 5. 0. 0. 0. 0. 5.]]\n",
      "===\n",
      "[[1. 0. 0. 0. 0.]\n",
      " [0. 0. 2. 0. 3.]\n",
      " [0. 0. 0. 0. 0.]\n",
      " [0. 0. 0. 4. 0.]\n",
      " [0. 0. 0. 0. 5.]\n",
      " [1. 0. 0. 0. 0.]\n",
      " [0. 0. 2. 0. 3.]\n",
      " [0. 0. 0. 0. 0.]\n",
      " [0. 0. 0. 4. 0.]\n",
      " [0. 0. 0. 0. 5.]]\n",
      "===\n",
      "[[1. 0. 0. 0. 0. 1. 0. 0. 0. 0.]\n",
      " [0. 0. 0. 0. 0. 0. 0. 0. 0. 0.]\n",
      " [0. 2. 0. 0. 0. 0. 2. 0. 0. 0.]\n",
      " [0. 0. 0. 4. 0. 0. 0. 0. 4. 0.]\n",
      " [0. 3. 0. 0. 5. 0. 3. 0. 0. 5.]]\n"
     ]
    }
   ],
   "source": [
    "x = sp.hstack([mat_coo, mat_coo])\n",
    "print(x.todense())\n",
    "x = sp.vstack([mat_coo, mat_coo])\n",
    "print(\"===\")\n",
    "print(x.todense())\n",
    "print('===')\n",
    "print(x.transpose().todense())"
   ]
  },
  {
   "cell_type": "code",
   "execution_count": 112,
   "metadata": {},
   "outputs": [
    {
     "name": "stdout",
     "output_type": "stream",
     "text": [
      "  (0, 0)\t1.0\n",
      "  (1, 1)\t1.0\n",
      "  (2, 2)\t1.0\n",
      "  (3, 3)\t1.0\n",
      "  (4, 4)\t1.0\n"
     ]
    }
   ],
   "source": [
    "identity_mx = sp.eye(5).tocoo()\n",
    "print(identity_mx.tocoo())"
   ]
  },
  {
   "cell_type": "code",
   "execution_count": 113,
   "metadata": {},
   "outputs": [
    {
     "name": "stdout",
     "output_type": "stream",
     "text": [
      "[0 1 2 3 4]\n",
      "[0 1 2 3 4]\n",
      "[1. 1. 1. 1. 1.]\n"
     ]
    }
   ],
   "source": [
    "print(identity_mx.row)\n",
    "print(identity_mx.col)\n",
    "print(identity_mx.data)"
   ]
  },
  {
   "cell_type": "code",
   "execution_count": 115,
   "metadata": {},
   "outputs": [
    {
     "data": {
      "text/plain": [
       "array([1., 1., 1.])"
      ]
     },
     "execution_count": 115,
     "metadata": {},
     "output_type": "execute_result"
    }
   ],
   "source": [
    "np.ones(3)"
   ]
  },
  {
   "cell_type": "code",
   "execution_count": null,
   "metadata": {},
   "outputs": [],
   "source": []
  },
  {
   "cell_type": "code",
   "execution_count": null,
   "metadata": {},
   "outputs": [],
   "source": []
  },
  {
   "cell_type": "code",
   "execution_count": null,
   "metadata": {},
   "outputs": [],
   "source": []
  },
  {
   "cell_type": "code",
   "execution_count": 95,
   "metadata": {},
   "outputs": [
    {
     "ename": "ValueError",
     "evalue": "row, column, and data array must all be the same length",
     "output_type": "error",
     "traceback": [
      "\u001b[1;31m---------------------------------------------------------------------------\u001b[0m",
      "\u001b[1;31mValueError\u001b[0m                                Traceback (most recent call last)",
      "\u001b[1;32m<ipython-input-95-624c756d5681>\u001b[0m in \u001b[0;36m<module>\u001b[1;34m\u001b[0m\n\u001b[0;32m      2\u001b[0m \u001b[0mcol_ind\u001b[0m \u001b[1;33m=\u001b[0m \u001b[0mnp\u001b[0m\u001b[1;33m.\u001b[0m\u001b[0marray\u001b[0m\u001b[1;33m(\u001b[0m\u001b[1;33m[\u001b[0m\u001b[1;36m0\u001b[0m\u001b[1;33m,\u001b[0m\u001b[1;36m2\u001b[0m\u001b[1;33m,\u001b[0m\u001b[1;36m4\u001b[0m\u001b[1;33m,\u001b[0m\u001b[1;36m3\u001b[0m\u001b[1;33m,\u001b[0m\u001b[1;36m4\u001b[0m\u001b[1;33m]\u001b[0m\u001b[1;33m)\u001b[0m\u001b[1;33m\u001b[0m\u001b[1;33m\u001b[0m\u001b[0m\n\u001b[0;32m      3\u001b[0m \u001b[0mdata\u001b[0m \u001b[1;33m=\u001b[0m \u001b[0mnp\u001b[0m\u001b[1;33m.\u001b[0m\u001b[0marray\u001b[0m\u001b[1;33m(\u001b[0m\u001b[1;33m[\u001b[0m\u001b[1;36m1\u001b[0m\u001b[1;33m,\u001b[0m\u001b[1;36m2\u001b[0m\u001b[1;33m,\u001b[0m\u001b[1;36m3\u001b[0m\u001b[1;33m,\u001b[0m\u001b[1;36m4\u001b[0m\u001b[1;33m]\u001b[0m\u001b[1;33m,\u001b[0m \u001b[0mdtype\u001b[0m\u001b[1;33m=\u001b[0m\u001b[0mfloat\u001b[0m\u001b[1;33m)\u001b[0m\u001b[1;33m\u001b[0m\u001b[1;33m\u001b[0m\u001b[0m\n\u001b[1;32m----> 4\u001b[1;33m \u001b[0mmat_coo\u001b[0m \u001b[1;33m=\u001b[0m \u001b[0msp\u001b[0m\u001b[1;33m.\u001b[0m\u001b[0mcoo_matrix\u001b[0m\u001b[1;33m(\u001b[0m\u001b[1;33m(\u001b[0m\u001b[0mdata\u001b[0m\u001b[1;33m,\u001b[0m \u001b[1;33m(\u001b[0m\u001b[0mrow_ind\u001b[0m\u001b[1;33m,\u001b[0m \u001b[0mcol_ind\u001b[0m\u001b[1;33m)\u001b[0m\u001b[1;33m)\u001b[0m\u001b[1;33m)\u001b[0m\u001b[1;33m\u001b[0m\u001b[1;33m\u001b[0m\u001b[0m\n\u001b[0m\u001b[0;32m      5\u001b[0m \u001b[0mprint\u001b[0m\u001b[1;33m(\u001b[0m\u001b[0mmat_coo\u001b[0m\u001b[1;33m)\u001b[0m\u001b[1;33m\u001b[0m\u001b[1;33m\u001b[0m\u001b[0m\n",
      "\u001b[1;32m~\\AppData\\Local\\Continuum\\anaconda3\\envs\\pytorch_python3.7\\lib\\site-packages\\scipy\\sparse\\coo.py\u001b[0m in \u001b[0;36m__init__\u001b[1;34m(self, arg1, shape, dtype, copy)\u001b[0m\n\u001b[0;32m    196\u001b[0m             \u001b[0mself\u001b[0m\u001b[1;33m.\u001b[0m\u001b[0mdata\u001b[0m \u001b[1;33m=\u001b[0m \u001b[0mself\u001b[0m\u001b[1;33m.\u001b[0m\u001b[0mdata\u001b[0m\u001b[1;33m.\u001b[0m\u001b[0mastype\u001b[0m\u001b[1;33m(\u001b[0m\u001b[0mdtype\u001b[0m\u001b[1;33m,\u001b[0m \u001b[0mcopy\u001b[0m\u001b[1;33m=\u001b[0m\u001b[1;32mFalse\u001b[0m\u001b[1;33m)\u001b[0m\u001b[1;33m\u001b[0m\u001b[1;33m\u001b[0m\u001b[0m\n\u001b[0;32m    197\u001b[0m \u001b[1;33m\u001b[0m\u001b[0m\n\u001b[1;32m--> 198\u001b[1;33m         \u001b[0mself\u001b[0m\u001b[1;33m.\u001b[0m\u001b[0m_check\u001b[0m\u001b[1;33m(\u001b[0m\u001b[1;33m)\u001b[0m\u001b[1;33m\u001b[0m\u001b[1;33m\u001b[0m\u001b[0m\n\u001b[0m\u001b[0;32m    199\u001b[0m \u001b[1;33m\u001b[0m\u001b[0m\n\u001b[0;32m    200\u001b[0m     \u001b[1;32mdef\u001b[0m \u001b[0mreshape\u001b[0m\u001b[1;33m(\u001b[0m\u001b[0mself\u001b[0m\u001b[1;33m,\u001b[0m \u001b[1;33m*\u001b[0m\u001b[0margs\u001b[0m\u001b[1;33m,\u001b[0m \u001b[1;33m**\u001b[0m\u001b[0mkwargs\u001b[0m\u001b[1;33m)\u001b[0m\u001b[1;33m:\u001b[0m\u001b[1;33m\u001b[0m\u001b[1;33m\u001b[0m\u001b[0m\n",
      "\u001b[1;32m~\\AppData\\Local\\Continuum\\anaconda3\\envs\\pytorch_python3.7\\lib\\site-packages\\scipy\\sparse\\coo.py\u001b[0m in \u001b[0;36m_check\u001b[1;34m(self)\u001b[0m\n\u001b[0;32m    281\u001b[0m         \u001b[0mself\u001b[0m\u001b[1;33m.\u001b[0m\u001b[0mdata\u001b[0m \u001b[1;33m=\u001b[0m \u001b[0mto_native\u001b[0m\u001b[1;33m(\u001b[0m\u001b[0mself\u001b[0m\u001b[1;33m.\u001b[0m\u001b[0mdata\u001b[0m\u001b[1;33m)\u001b[0m\u001b[1;33m\u001b[0m\u001b[1;33m\u001b[0m\u001b[0m\n\u001b[0;32m    282\u001b[0m \u001b[1;33m\u001b[0m\u001b[0m\n\u001b[1;32m--> 283\u001b[1;33m         \u001b[1;32mif\u001b[0m \u001b[0mself\u001b[0m\u001b[1;33m.\u001b[0m\u001b[0mnnz\u001b[0m \u001b[1;33m>\u001b[0m \u001b[1;36m0\u001b[0m\u001b[1;33m:\u001b[0m\u001b[1;33m\u001b[0m\u001b[1;33m\u001b[0m\u001b[0m\n\u001b[0m\u001b[0;32m    284\u001b[0m             \u001b[1;32mif\u001b[0m \u001b[0mself\u001b[0m\u001b[1;33m.\u001b[0m\u001b[0mrow\u001b[0m\u001b[1;33m.\u001b[0m\u001b[0mmax\u001b[0m\u001b[1;33m(\u001b[0m\u001b[1;33m)\u001b[0m \u001b[1;33m>=\u001b[0m \u001b[0mself\u001b[0m\u001b[1;33m.\u001b[0m\u001b[0mshape\u001b[0m\u001b[1;33m[\u001b[0m\u001b[1;36m0\u001b[0m\u001b[1;33m]\u001b[0m\u001b[1;33m:\u001b[0m\u001b[1;33m\u001b[0m\u001b[1;33m\u001b[0m\u001b[0m\n\u001b[0;32m    285\u001b[0m                 \u001b[1;32mraise\u001b[0m \u001b[0mValueError\u001b[0m\u001b[1;33m(\u001b[0m\u001b[1;34m'row index exceeds matrix dimensions'\u001b[0m\u001b[1;33m)\u001b[0m\u001b[1;33m\u001b[0m\u001b[1;33m\u001b[0m\u001b[0m\n",
      "\u001b[1;32m~\\AppData\\Local\\Continuum\\anaconda3\\envs\\pytorch_python3.7\\lib\\site-packages\\scipy\\sparse\\base.py\u001b[0m in \u001b[0;36mnnz\u001b[1;34m(self)\u001b[0m\n\u001b[0;32m    248\u001b[0m         \u001b[0mcount_nonzero\u001b[0m \u001b[1;33m:\u001b[0m \u001b[0mNumber\u001b[0m \u001b[0mof\u001b[0m \u001b[0mnon\u001b[0m\u001b[1;33m-\u001b[0m\u001b[0mzero\u001b[0m \u001b[0mentries\u001b[0m\u001b[1;33m\u001b[0m\u001b[1;33m\u001b[0m\u001b[0m\n\u001b[0;32m    249\u001b[0m         \"\"\"\n\u001b[1;32m--> 250\u001b[1;33m         \u001b[1;32mreturn\u001b[0m \u001b[0mself\u001b[0m\u001b[1;33m.\u001b[0m\u001b[0mgetnnz\u001b[0m\u001b[1;33m(\u001b[0m\u001b[1;33m)\u001b[0m\u001b[1;33m\u001b[0m\u001b[1;33m\u001b[0m\u001b[0m\n\u001b[0m\u001b[0;32m    251\u001b[0m \u001b[1;33m\u001b[0m\u001b[0m\n\u001b[0;32m    252\u001b[0m     \u001b[1;32mdef\u001b[0m \u001b[0mgetformat\u001b[0m\u001b[1;33m(\u001b[0m\u001b[0mself\u001b[0m\u001b[1;33m)\u001b[0m\u001b[1;33m:\u001b[0m\u001b[1;33m\u001b[0m\u001b[1;33m\u001b[0m\u001b[0m\n",
      "\u001b[1;32m~\\AppData\\Local\\Continuum\\anaconda3\\envs\\pytorch_python3.7\\lib\\site-packages\\scipy\\sparse\\coo.py\u001b[0m in \u001b[0;36mgetnnz\u001b[1;34m(self, axis)\u001b[0m\n\u001b[0;32m    243\u001b[0m             \u001b[0mnnz\u001b[0m \u001b[1;33m=\u001b[0m \u001b[0mlen\u001b[0m\u001b[1;33m(\u001b[0m\u001b[0mself\u001b[0m\u001b[1;33m.\u001b[0m\u001b[0mdata\u001b[0m\u001b[1;33m)\u001b[0m\u001b[1;33m\u001b[0m\u001b[1;33m\u001b[0m\u001b[0m\n\u001b[0;32m    244\u001b[0m             \u001b[1;32mif\u001b[0m \u001b[0mnnz\u001b[0m \u001b[1;33m!=\u001b[0m \u001b[0mlen\u001b[0m\u001b[1;33m(\u001b[0m\u001b[0mself\u001b[0m\u001b[1;33m.\u001b[0m\u001b[0mrow\u001b[0m\u001b[1;33m)\u001b[0m \u001b[1;32mor\u001b[0m \u001b[0mnnz\u001b[0m \u001b[1;33m!=\u001b[0m \u001b[0mlen\u001b[0m\u001b[1;33m(\u001b[0m\u001b[0mself\u001b[0m\u001b[1;33m.\u001b[0m\u001b[0mcol\u001b[0m\u001b[1;33m)\u001b[0m\u001b[1;33m:\u001b[0m\u001b[1;33m\u001b[0m\u001b[1;33m\u001b[0m\u001b[0m\n\u001b[1;32m--> 245\u001b[1;33m                 raise ValueError('row, column, and data array must all be the '\n\u001b[0m\u001b[0;32m    246\u001b[0m                                  'same length')\n\u001b[0;32m    247\u001b[0m \u001b[1;33m\u001b[0m\u001b[0m\n",
      "\u001b[1;31mValueError\u001b[0m: row, column, and data array must all be the same length"
     ]
    }
   ],
   "source": [
    "row_ind = np.array([0,1,1,3,4])\n",
    "col_ind = np.array([0,2,4,3,4])\n",
    "data = np.array([1,2,3,4], dtype=float)\n",
    "mat_coo = sp.coo_matrix((data, (row_ind, col_ind)))\n",
    "print(mat_coo)"
   ]
  },
  {
   "cell_type": "code",
   "execution_count": 98,
   "metadata": {},
   "outputs": [
    {
     "data": {
      "text/plain": [
       "array([[0., 0., 0.],\n",
       "       [0., 0., 0.],\n",
       "       [0., 0., 0.]])"
      ]
     },
     "execution_count": 98,
     "metadata": {},
     "output_type": "execute_result"
    }
   ],
   "source": [
    "np.zeros(3 * 3 ).reshape(3,-1)"
   ]
  },
  {
   "cell_type": "code",
   "execution_count": 99,
   "metadata": {},
   "outputs": [
    {
     "data": {
      "text/plain": [
       "array([[1., 0., 0.],\n",
       "       [0., 1., 0.],\n",
       "       [0., 0., 1.]])"
      ]
     },
     "execution_count": 99,
     "metadata": {},
     "output_type": "execute_result"
    }
   ],
   "source": [
    "np.identity(3)"
   ]
  },
  {
   "cell_type": "markdown",
   "metadata": {},
   "source": []
  },
  {
   "cell_type": "code",
   "execution_count": 104,
   "metadata": {},
   "outputs": [
    {
     "name": "stdout",
     "output_type": "stream",
     "text": [
      "torch.Size([2708, 1433])\n",
      "torch.Size([2708, 1433])\n",
      "torch.Size([2708, 1433])\n",
      "torch.Size([2708, 1433])\n",
      "torch.Size([2708, 1433])\n",
      "torch.Size([2708, 1433])\n",
      "torch.Size([2708, 1433])\n",
      "torch.Size([2708, 1433])\n",
      "torch.Size([2708, 1433])\n",
      "torch.Size([2708, 1433])\n",
      "torch.Size([2708, 1433])\n",
      "torch.Size([2708, 1433])\n",
      "torch.Size([2708, 1433])\n",
      "torch.Size([2708, 1433])\n",
      "torch.Size([2708, 1433])\n",
      "torch.Size([2708, 1433])\n",
      "torch.Size([2708, 1433])\n",
      "torch.Size([2708, 1433])\n",
      "torch.Size([2708, 1433])\n",
      "torch.Size([2708, 1433])\n",
      "torch.Size([2708, 1433])\n",
      "torch.Size([2708, 1433])\n",
      "torch.Size([2708, 1433])\n",
      "torch.Size([2708, 1433])\n",
      "torch.Size([2708, 1433])\n",
      "torch.Size([2708, 1433])\n",
      "torch.Size([2708, 1433])\n",
      "torch.Size([2708, 1433])\n",
      "torch.Size([2708, 1433])\n",
      "torch.Size([2708, 1433])\n",
      "torch.Size([2708, 1433])\n",
      "torch.Size([2708, 1433])\n",
      "torch.Size([2708, 1433])\n",
      "torch.Size([2708, 1433])\n",
      "torch.Size([2708, 1433])\n",
      "torch.Size([2708, 1433])\n",
      "torch.Size([2708, 1433])\n",
      "torch.Size([2708, 1433])\n",
      "torch.Size([2708, 1433])\n",
      "torch.Size([2708, 1433])\n",
      "torch.Size([2708, 1433])\n",
      "torch.Size([2708, 1433])\n",
      "torch.Size([2708, 1433])\n",
      "torch.Size([2708, 1433])\n",
      "torch.Size([2708, 1433])\n",
      "torch.Size([2708, 1433])\n",
      "torch.Size([2708, 1433])\n",
      "torch.Size([2708, 1433])\n",
      "torch.Size([2708, 1433])\n",
      "torch.Size([2708, 1433])\n",
      "torch.Size([2708, 1433])\n",
      "torch.Size([2708, 1433])\n",
      "torch.Size([2708, 1433])\n",
      "torch.Size([2708, 1433])\n",
      "torch.Size([2708, 1433])\n",
      "torch.Size([2708, 1433])\n",
      "torch.Size([2708, 1433])\n",
      "torch.Size([2708, 1433])\n",
      "torch.Size([2708, 1433])\n",
      "torch.Size([2708, 1433])\n",
      "torch.Size([2708, 1433])\n",
      "torch.Size([2708, 1433])\n",
      "torch.Size([2708, 1433])\n",
      "torch.Size([2708, 1433])\n",
      "torch.Size([2708, 1433])\n",
      "torch.Size([2708, 1433])\n",
      "torch.Size([2708, 1433])\n",
      "torch.Size([2708, 1433])\n",
      "torch.Size([2708, 1433])\n",
      "torch.Size([2708, 1433])\n",
      "torch.Size([2708, 1433])\n",
      "torch.Size([2708, 1433])\n",
      "torch.Size([2708, 1433])\n",
      "torch.Size([2708, 1433])\n",
      "torch.Size([2708, 1433])\n",
      "torch.Size([2708, 1433])\n",
      "torch.Size([2708, 1433])\n",
      "torch.Size([2708, 1433])\n",
      "torch.Size([2708, 1433])\n",
      "torch.Size([2708, 1433])\n",
      "torch.Size([2708, 1433])\n",
      "torch.Size([2708, 1433])\n",
      "torch.Size([2708, 1433])\n",
      "torch.Size([2708, 1433])\n",
      "torch.Size([2708, 1433])\n",
      "torch.Size([2708, 1433])\n",
      "torch.Size([2708, 1433])\n",
      "torch.Size([2708, 1433])\n",
      "torch.Size([2708, 1433])\n",
      "torch.Size([2708, 1433])\n",
      "torch.Size([2708, 1433])\n",
      "torch.Size([2708, 1433])\n",
      "torch.Size([2708, 1433])\n",
      "torch.Size([2708, 1433])\n",
      "torch.Size([2708, 1433])\n",
      "torch.Size([2708, 1433])\n",
      "torch.Size([2708, 1433])\n",
      "torch.Size([2708, 1433])\n",
      "torch.Size([2708, 1433])\n",
      "torch.Size([2708, 1433])\n",
      "torch.Size([2708, 1433])\n",
      "torch.Size([2708, 1433])\n",
      "torch.Size([2708, 1433])\n",
      "torch.Size([2708, 1433])\n",
      "torch.Size([2708, 1433])\n",
      "torch.Size([2708, 1433])\n",
      "torch.Size([2708, 1433])\n",
      "torch.Size([2708, 1433])\n",
      "torch.Size([2708, 1433])\n",
      "torch.Size([2708, 1433])\n",
      "torch.Size([2708, 1433])\n",
      "torch.Size([2708, 1433])\n",
      "torch.Size([2708, 1433])\n",
      "torch.Size([2708, 1433])\n",
      "torch.Size([2708, 1433])\n",
      "torch.Size([2708, 1433])\n",
      "torch.Size([2708, 1433])\n",
      "torch.Size([2708, 1433])\n",
      "torch.Size([2708, 1433])\n",
      "torch.Size([2708, 1433])\n",
      "torch.Size([2708, 1433])\n",
      "torch.Size([2708, 1433])\n",
      "torch.Size([2708, 1433])\n",
      "torch.Size([2708, 1433])\n",
      "torch.Size([2708, 1433])\n",
      "torch.Size([2708, 1433])\n",
      "torch.Size([2708, 1433])\n",
      "torch.Size([2708, 1433])\n",
      "torch.Size([2708, 1433])\n",
      "torch.Size([2708, 1433])\n",
      "torch.Size([2708, 1433])\n",
      "torch.Size([2708, 1433])\n",
      "torch.Size([2708, 1433])\n",
      "torch.Size([2708, 1433])\n",
      "torch.Size([2708, 1433])\n",
      "torch.Size([2708, 1433])\n",
      "torch.Size([2708, 1433])\n",
      "torch.Size([2708, 1433])\n",
      "torch.Size([2708, 1433])\n",
      "torch.Size([2708, 1433])\n",
      "torch.Size([2708, 1433])\n",
      "torch.Size([2708, 1433])\n",
      "torch.Size([2708, 1433])\n",
      "torch.Size([2708, 1433])\n",
      "torch.Size([2708, 1433])\n",
      "torch.Size([2708, 1433])\n",
      "torch.Size([2708, 1433])\n",
      "torch.Size([2708, 1433])\n",
      "torch.Size([2708, 1433])\n",
      "torch.Size([2708, 1433])\n",
      "torch.Size([2708, 1433])\n",
      "torch.Size([2708, 1433])\n",
      "torch.Size([2708, 1433])\n",
      "torch.Size([2708, 1433])\n",
      "torch.Size([2708, 1433])\n",
      "torch.Size([2708, 1433])\n",
      "torch.Size([2708, 1433])\n",
      "torch.Size([2708, 1433])\n",
      "torch.Size([2708, 1433])\n",
      "torch.Size([2708, 1433])\n",
      "torch.Size([2708, 1433])\n",
      "torch.Size([2708, 1433])\n",
      "torch.Size([2708, 1433])\n",
      "torch.Size([2708, 1433])\n",
      "torch.Size([2708, 1433])\n",
      "torch.Size([2708, 1433])\n",
      "torch.Size([2708, 1433])\n",
      "torch.Size([2708, 1433])\n",
      "torch.Size([2708, 1433])\n",
      "torch.Size([2708, 1433])\n",
      "torch.Size([2708, 1433])\n",
      "torch.Size([2708, 1433])\n",
      "torch.Size([2708, 1433])\n",
      "torch.Size([2708, 1433])\n",
      "torch.Size([2708, 1433])\n",
      "torch.Size([2708, 1433])\n",
      "torch.Size([2708, 1433])\n",
      "torch.Size([2708, 1433])\n",
      "torch.Size([2708, 1433])\n",
      "torch.Size([2708, 1433])\n",
      "torch.Size([2708, 1433])\n",
      "torch.Size([2708, 1433])\n",
      "torch.Size([2708, 1433])\n",
      "torch.Size([2708, 1433])\n",
      "torch.Size([2708, 1433])\n",
      "torch.Size([2708, 1433])\n",
      "torch.Size([2708, 1433])\n",
      "torch.Size([2708, 1433])\n",
      "torch.Size([2708, 1433])\n",
      "torch.Size([2708, 1433])\n",
      "torch.Size([2708, 1433])\n",
      "torch.Size([2708, 1433])\n",
      "torch.Size([2708, 1433])\n",
      "torch.Size([2708, 1433])\n",
      "torch.Size([2708, 1433])\n",
      "torch.Size([2708, 1433])\n",
      "torch.Size([2708, 1433])\n",
      "torch.Size([2708, 1433])\n",
      "torch.Size([2708, 1433])\n",
      "torch.Size([2708, 1433])\n",
      "torch.Size([2708, 1433])\n",
      "Accuracy: 0.8020\n"
     ]
    }
   ],
   "source": [
    "from torch_geometric.datasets import Planetoid\n",
    "\n",
    "dataset = Planetoid(root='/tmp/Cora', name='Cora')\n",
    "import torch\n",
    "import torch.nn.functional as F\n",
    "from torch_geometric.nn import GCNConv\n",
    "\n",
    "class Net(torch.nn.Module):\n",
    "    def __init__(self):\n",
    "        super(Net, self).__init__()\n",
    "        self.conv1 = GCNConv(dataset.num_features, 16)\n",
    "        self.conv2 = GCNConv(16, dataset.num_classes)\n",
    "\n",
    "    def forward(self, data):\n",
    "        x, edge_index = data.x, data.edge_index\n",
    "        print(x.shape)\n",
    "        x = self.conv1(x, edge_index)\n",
    "        x = F.relu(x)\n",
    "        x = F.dropout(x, training=self.training)\n",
    "        x = self.conv2(x, edge_index)\n",
    "\n",
    "        return F.log_softmax(x, dim=1)\n",
    "device = torch.device('cuda' if torch.cuda.is_available() else 'cpu')\n",
    "model = Net().to(device)\n",
    "data = dataset[0].to(device)\n",
    "optimizer = torch.optim.Adam(model.parameters(), lr=0.01, weight_decay=5e-4)\n",
    "\n",
    "model.train()\n",
    "for epoch in range(200):\n",
    "    optimizer.zero_grad()\n",
    "    out = model(data)\n",
    "    loss = F.nll_loss(out[data.train_mask], data.y[data.train_mask])\n",
    "    loss.backward()\n",
    "    optimizer.step()\n",
    "\n",
    "model.eval()\n",
    "_, pred = model(data).max(dim=1)\n",
    "correct = float (pred[data.test_mask].eq(data.y[data.test_mask]).sum().item())\n",
    "acc = correct / data.test_mask.sum().item()\n",
    "print('Accuracy: {:.4f}'.format(acc))"
   ]
  },
  {
   "cell_type": "code",
   "execution_count": 118,
   "metadata": {},
   "outputs": [
    {
     "data": {
      "text/plain": [
       "{'one': 1}"
      ]
     },
     "execution_count": 118,
     "metadata": {},
     "output_type": "execute_result"
    }
   ],
   "source": [
    "class DoppelDict(dict):\n",
    "    def __setitem__(self, key,value):\n",
    "            super().__setitem__(key, [value]*2)\n",
    "dd =DoppelDict(one=1)\n",
    "dd"
   ]
  },
  {
   "cell_type": "code",
   "execution_count": 119,
   "metadata": {},
   "outputs": [],
   "source": [
    "dd['two'] =2"
   ]
  },
  {
   "cell_type": "code",
   "execution_count": 120,
   "metadata": {},
   "outputs": [
    {
     "data": {
      "text/plain": [
       "{'one': 1, 'two': [2, 2]}"
      ]
     },
     "execution_count": 120,
     "metadata": {},
     "output_type": "execute_result"
    }
   ],
   "source": [
    "dd"
   ]
  },
  {
   "cell_type": "code",
   "execution_count": 122,
   "metadata": {},
   "outputs": [],
   "source": [
    "dd.update(three=3)"
   ]
  },
  {
   "cell_type": "code",
   "execution_count": 123,
   "metadata": {},
   "outputs": [
    {
     "data": {
      "text/plain": [
       "{'one': 1, 'two': [2, 2], 'three': 3}"
      ]
     },
     "execution_count": 123,
     "metadata": {},
     "output_type": "execute_result"
    }
   ],
   "source": [
    "dd"
   ]
  },
  {
   "cell_type": "code",
   "execution_count": 125,
   "metadata": {},
   "outputs": [
    {
     "data": {
      "text/plain": [
       "42"
      ]
     },
     "execution_count": 125,
     "metadata": {},
     "output_type": "execute_result"
    }
   ],
   "source": [
    "class AnswerDict(dict):\n",
    "    def __getitem__(self, key):\n",
    "        return 42\n",
    "    \n",
    "ad = AnswerDict(a='foo')\n",
    "ad['a']"
   ]
  },
  {
   "cell_type": "code",
   "execution_count": 126,
   "metadata": {},
   "outputs": [],
   "source": [
    "d = {}"
   ]
  },
  {
   "cell_type": "code",
   "execution_count": 127,
   "metadata": {},
   "outputs": [],
   "source": [
    "d.update(ad)"
   ]
  },
  {
   "cell_type": "code",
   "execution_count": 128,
   "metadata": {},
   "outputs": [
    {
     "data": {
      "text/plain": [
       "{'a': 'foo'}"
      ]
     },
     "execution_count": 128,
     "metadata": {},
     "output_type": "execute_result"
    }
   ],
   "source": [
    "d"
   ]
  },
  {
   "cell_type": "code",
   "execution_count": 130,
   "metadata": {},
   "outputs": [
    {
     "data": {
      "text/plain": [
       "{'one': [1, 1]}"
      ]
     },
     "execution_count": 130,
     "metadata": {},
     "output_type": "execute_result"
    }
   ],
   "source": [
    "import collections \n",
    "class DoppelDict2(collections.UserDict):\n",
    "    def __setitem__(self, key, value):\n",
    "        super().__setitem__(key, [value] *2)\n",
    "dd = DoppelDict2(one=1)\n",
    "dd"
   ]
  },
  {
   "cell_type": "code",
   "execution_count": 131,
   "metadata": {},
   "outputs": [],
   "source": [
    "dd['two'] = 2"
   ]
  },
  {
   "cell_type": "code",
   "execution_count": null,
   "metadata": {},
   "outputs": [],
   "source": [
    "__init__, get, update dro mdict refused to copperate \n",
    "with overriden __missing__, c__contains__ , and _-setitem__."
   ]
  },
  {
   "cell_type": "code",
   "execution_count": null,
   "metadata": {},
   "outputs": [],
   "source": [
    "class StrKeyDict(dict):\n",
    "    def __init__(self, iteable=None, **kwds):\n",
    "        super().__init__()\n",
    "        self.update(iteable, **kwds)\n",
    "    def __missing__(self):\n",
    "        if isinstance(key, str):\n",
    "            raise KeyError(key)\n",
    "        return self[str(key)]\n",
    "    def __contains(self,key):\n",
    "        return key in self.keys() or str(key) in self.keys()\n",
    "    def __setitem__(self,key,item):\n",
    "        super().__setitem__(str(key),item)\n",
    "    def get(self, key, default=None):\n",
    "        try:\n",
    "            return self[key]\n",
    "        except:\n",
    "            return default # try using raise KeyError\n",
    "    def update(self, iterable=None, **kwds):\n",
    "        if iterable is not None:\n",
    "            if isinstnace(iterable, collections.abc.Mapping):\n",
    "                pairs= iterable.items()\n",
    "            else:\n",
    "                pairs((k,v) for k,v in iterable)\n",
    "            for key, value in pairs:\n",
    "                self[key] = value\n",
    "        if kwds:\n",
    "            self.update(kwds)\n",
    "        "
   ]
  },
  {
   "cell_type": "code",
   "execution_count": 1,
   "metadata": {},
   "outputs": [],
   "source": [
    "from sklearn.ensemble import RandomForestClassifier\n",
    "from sklearn.datasets import make_classification"
   ]
  },
  {
   "cell_type": "code",
   "execution_count": 5,
   "metadata": {},
   "outputs": [
    {
     "name": "stdout",
     "output_type": "stream",
     "text": [
      "[0.14205973 0.76664038 0.0282433  0.06305659]\n",
      "[1]\n"
     ]
    }
   ],
   "source": [
    "X, y = make_classification(n_samples=1000, n_features=4,\n",
    "                           n_informative=2, n_redundant=0,\n",
    "                           random_state=0, shuffle=False)\n",
    "clf = RandomForestClassifier(n_estimators=100, max_depth=2,\n",
    "                             random_state=0)\n",
    "clf.fit(X, y)  \n",
    "\n",
    "\n",
    "\n",
    "\n",
    "\n",
    "\n",
    "print(clf.feature_importances_)\n",
    "\n",
    "print(clf.predict([[0, 0, 0, 0]]))\n",
    "# print(clf.predict([[0, 0]]))"
   ]
  },
  {
   "cell_type": "code",
   "execution_count": 6,
   "metadata": {},
   "outputs": [],
   "source": [
    "import pandas as pd\n",
    "import numpy as np\n",
    "from scipy import interp\n",
    "\n",
    "from  sklearn.metrics import precision_recall_fscore_support\n",
    "from sklearn.metrics import roc_curve, auc\n",
    "from sklearn.preprocessing import LabelBinarizer\n",
    "\n",
    "def class_report(y_true, y_pred, y_score=None, average='micro'):\n",
    "    if y_true.shape != y_pred.shape:\n",
    "        print(\"Error! y_true %s is not the same shape as y_pred %s\" % (\n",
    "              y_true.shape,\n",
    "              y_pred.shape)\n",
    "        )\n",
    "        return\n",
    "\n",
    "    lb = LabelBinarizer()\n",
    "\n",
    "    if len(y_true.shape) == 1:\n",
    "        lb.fit(y_true)\n",
    "\n",
    "    #Value counts of predictions\n",
    "    labels, cnt = np.unique(\n",
    "        y_pred,\n",
    "        return_counts=True)\n",
    "    n_classes = len(labels)\n",
    "    pred_cnt = pd.Series(cnt, index=labels)\n",
    "\n",
    "    metrics_summary = precision_recall_fscore_support(\n",
    "            y_true=y_true,\n",
    "            y_pred=y_pred,\n",
    "            labels=labels)\n",
    "\n",
    "    avg = list(precision_recall_fscore_support(\n",
    "            y_true=y_true, \n",
    "            y_pred=y_pred,\n",
    "            average='weighted'))\n",
    "\n",
    "    metrics_sum_index = ['precision', 'recall', 'f1-score', 'support']\n",
    "    class_report_df = pd.DataFrame(\n",
    "        list(metrics_summary),\n",
    "        index=metrics_sum_index,\n",
    "        columns=labels)\n",
    "\n",
    "    support = class_report_df.loc['support']\n",
    "    total = support.sum() \n",
    "    class_report_df['avg / total'] = avg[:-1] + [total]\n",
    "\n",
    "    class_report_df = class_report_df.T\n",
    "    class_report_df['pred'] = pred_cnt\n",
    "    class_report_df['pred'].iloc[-1] = total\n",
    "\n",
    "    if not (y_score is None):\n",
    "        fpr = dict()\n",
    "        tpr = dict()\n",
    "        roc_auc = dict()\n",
    "        for label_it, label in enumerate(labels):\n",
    "            fpr[label], tpr[label], _ = roc_curve(\n",
    "                (y_true == label).astype(int), \n",
    "                y_score[:, label_it])\n",
    "\n",
    "            roc_auc[label] = auc(fpr[label], tpr[label])\n",
    "\n",
    "        if average == 'micro':\n",
    "            if n_classes <= 2:\n",
    "                fpr[\"avg / total\"], tpr[\"avg / total\"], _ = roc_curve(\n",
    "                    lb.transform(y_true).ravel(), \n",
    "                    y_score[:, 1].ravel())\n",
    "            else:\n",
    "                fpr[\"avg / total\"], tpr[\"avg / total\"], _ = roc_curve(\n",
    "                        lb.transform(y_true).ravel(), \n",
    "                        y_score.ravel())\n",
    "\n",
    "            roc_auc[\"avg / total\"] = auc(\n",
    "                fpr[\"avg / total\"], \n",
    "                tpr[\"avg / total\"])\n",
    "\n",
    "        elif average == 'macro':\n",
    "            # First aggregate all false positive rates\n",
    "            all_fpr = np.unique(np.concatenate([\n",
    "                fpr[i] for i in labels]\n",
    "            ))\n",
    "\n",
    "            # Then interpolate all ROC curves at this points\n",
    "            mean_tpr = np.zeros_like(all_fpr)\n",
    "            for i in labels:\n",
    "                mean_tpr += interp(all_fpr, fpr[i], tpr[i])\n",
    "\n",
    "            # Finally average it and compute AUC\n",
    "            mean_tpr /= n_classes\n",
    "\n",
    "            fpr[\"macro\"] = all_fpr\n",
    "            tpr[\"macro\"] = mean_tpr\n",
    "\n",
    "            roc_auc[\"avg / total\"] = auc(fpr[\"macro\"], tpr[\"macro\"])\n",
    "\n",
    "        class_report_df['AUC'] = pd.Series(roc_auc)\n",
    "\n",
    "    return class_report_df"
   ]
  },
  {
   "cell_type": "code",
   "execution_count": 7,
   "metadata": {},
   "outputs": [
    {
     "name": "stderr",
     "output_type": "stream",
     "text": [
      "C:\\Users\\awannaphasch2016\\AppData\\Local\\Continuum\\anaconda3\\envs\\pytorch_python3.7\\lib\\site-packages\\sklearn\\ensemble\\forest.py:245: FutureWarning: The default value of n_estimators will change from 10 in version 0.20 to 100 in 0.22.\n",
      "  \"10 in version 0.20 to 100 in 0.22.\", FutureWarning)\n"
     ]
    },
    {
     "data": {
      "text/plain": [
       "RandomForestClassifier(bootstrap=True, class_weight=None, criterion='gini',\n",
       "                       max_depth=2, max_features='auto', max_leaf_nodes=None,\n",
       "                       min_impurity_decrease=0.0, min_impurity_split=None,\n",
       "                       min_samples_leaf=1, min_samples_split=2,\n",
       "                       min_weight_fraction_leaf=0.0, n_estimators=10,\n",
       "                       n_jobs=None, oob_score=False, random_state=0, verbose=0,\n",
       "                       warm_start=False)"
      ]
     },
     "execution_count": 7,
     "metadata": {},
     "output_type": "execute_result"
    }
   ],
   "source": [
    "from sklearn.metrics import classification_report\n",
    "from sklearn.model_selection import train_test_split\n",
    "from sklearn.ensemble import RandomForestClassifier\n",
    "from sklearn.datasets import make_classification\n",
    "\n",
    "X, y = make_classification(n_samples=5000, n_features=10,\n",
    "                           n_informative=5, n_redundant=0,\n",
    "                           n_classes=10, random_state=0, \n",
    "                           shuffle=False)\n",
    "\n",
    "X_train, X_test, y_train, y_test = train_test_split(X, y)\n",
    "\n",
    "model = RandomForestClassifier(max_depth=2, random_state=0)\n",
    "model.fit(X_train, y_train)"
   ]
  },
  {
   "cell_type": "code",
   "execution_count": 8,
   "metadata": {},
   "outputs": [
    {
     "name": "stdout",
     "output_type": "stream",
     "text": [
      "              precision    recall  f1-score   support\n",
      "\n",
      "           0   0.274336  0.678832  0.390756       137\n",
      "           1   0.270270  0.166667  0.206186       120\n",
      "           2   0.442623  0.223140  0.296703       121\n",
      "           3   0.363636  0.310345  0.334884       116\n",
      "           4   0.376147  0.299270  0.333333       137\n",
      "           5   0.727273  0.067797  0.124031       118\n",
      "           6   0.437956  0.400000  0.418118       150\n",
      "           7   0.450000  0.225000  0.300000       120\n",
      "           8   0.222222  0.378378  0.280000       111\n",
      "           9   0.298246  0.425000  0.350515       120\n",
      "\n",
      "    accuracy                       0.324000      1250\n",
      "   macro avg   0.386271  0.317443  0.303453      1250\n",
      "weighted avg   0.386604  0.324000  0.308148      1250\n",
      "\n"
     ]
    }
   ],
   "source": [
    "sk_report = classification_report(\n",
    "    digits=6,\n",
    "    y_true=y_test, \n",
    "    y_pred=model.predict(X_test))\n",
    "print(sk_report)"
   ]
  },
  {
   "cell_type": "code",
   "execution_count": 9,
   "metadata": {},
   "outputs": [
    {
     "name": "stdout",
     "output_type": "stream",
     "text": [
      "             precision    recall  f1-score  support    pred       AUC\n",
      "0             0.274336  0.678832  0.390756    137.0   339.0  0.780651\n",
      "1             0.270270  0.166667  0.206186    120.0    74.0  0.761409\n",
      "2             0.442623  0.223140  0.296703    121.0    61.0  0.791068\n",
      "3             0.363636  0.310345  0.334884    116.0    99.0  0.840475\n",
      "4             0.376147  0.299270  0.333333    137.0   109.0  0.774778\n",
      "5             0.727273  0.067797  0.124031    118.0    11.0  0.676386\n",
      "6             0.437956  0.400000  0.418118    150.0   137.0  0.842139\n",
      "7             0.450000  0.225000  0.300000    120.0    60.0  0.790302\n",
      "8             0.222222  0.378378  0.280000    111.0   189.0  0.779354\n",
      "9             0.298246  0.425000  0.350515    120.0   171.0  0.796010\n",
      "avg / total   0.386604  0.324000  0.308148   1250.0  1250.0  0.783347\n"
     ]
    }
   ],
   "source": [
    "report_with_auc = class_report(\n",
    "    y_true=y_test, \n",
    "    y_pred=model.predict(X_test), \n",
    "    y_score=model.predict_proba(X_test))\n",
    "\n",
    "print(report_with_auc)"
   ]
  },
  {
   "cell_type": "code",
   "execution_count": 14,
   "metadata": {},
   "outputs": [
    {
     "name": "stderr",
     "output_type": "stream",
     "text": [
      "UsageError: Line magic function `%` not found.\n"
     ]
    }
   ],
   "source": [
    "import matplotlib.pyplot as plt\n",
    "% matplotlib inline\n",
    "# First create some toy data:\n",
    "x = np.linspace(0, 2*np.pi, 400)\n",
    "y = np.sin(x**2)\n",
    "\n",
    "# Creates just a figure and only one subplot\n",
    "fig, ax = plt.subplots()\n",
    "ax.plot(x, y)\n",
    "ax.set_title('Simple plot')\n",
    "\n",
    "# Creates two subplots and unpacks the output array immediately\n",
    "f, (ax1, ax2) = plt.subplots(1, 2, sharey=True)\n",
    "ax1.plot(x, y)\n",
    "ax1.set_title('Sharing Y axis')\n",
    "ax2.scatter(x, y)\n",
    "\n",
    "# Creates four polar axes, and accesses them through the returned array\n",
    "fig, axes = plt.subplots(2, 2, subplot_kw=dict(polar=True))\n",
    "axes[0, 0].plot(x, y)\n",
    "axes[1, 1].scatter(x, y)\n",
    "\n",
    "# Share a X axis with each column of subplots\n",
    "plt.subplots(2, 2, sharex='col')\n",
    "\n",
    "# Share a Y axis with each row of subplots\n",
    "plt.subplots(2, 2, sharey='row')\n",
    "\n",
    "# Share both X and Y axes with all subplots\n",
    "plt.subplots(2, 2, sharex='all', sharey='all')\n",
    "\n",
    "# Note that this is the same as\n",
    "plt.subplots(2, 2, sharex=True, sharey=True)\n",
    "\n",
    "# Creates figure number 10 with a single subplot\n",
    "# and clears it if it already exists.\n",
    "fig, ax=plt.subplots(num=10, clear=True)"
   ]
  },
  {
   "cell_type": "code",
   "execution_count": 25,
   "metadata": {},
   "outputs": [
    {
     "data": {
      "image/png": "[encoded data removed]",
      "text/plain": [
       "<Figure size 432x288 with 1 Axes>"
      ]
     },
     "metadata": {
      "needs_background": "light"
     },
     "output_type": "display_data"
    }
   ],
   "source": [
    "fig, axes = plt.subplots(1,1)\n",
    "axes.plot([0.        , 0.        , 0.12068966, 1.        ], [0., 1., 1., 1.])\n",
    "# axes.plot([0.12068966, 1.        ], [1., 1.])\n",
    "axes.set_xlim(-0.1,1)\n",
    "plt.show()"
   ]
  },
  {
   "cell_type": "code",
   "execution_count": null,
   "metadata": {},
   "outputs": [],
   "source": []
  },
  {
   "cell_type": "code",
   "execution_count": null,
   "metadata": {},
   "outputs": [],
   "source": []
  },
  {
   "cell_type": "code",
   "execution_count": null,
   "metadata": {},
   "outputs": [],
   "source": []
  },
  {
   "cell_type": "code",
   "execution_count": null,
   "metadata": {},
   "outputs": [],
   "source": []
  },
  {
   "cell_type": "code",
   "execution_count": null,
   "metadata": {},
   "outputs": [],
   "source": []
  },
  {
   "cell_type": "code",
   "execution_count": null,
   "metadata": {},
   "outputs": [],
   "source": []
  },
  {
   "cell_type": "code",
   "execution_count": null,
   "metadata": {},
   "outputs": [],
   "source": []
  },
  {
   "cell_type": "code",
   "execution_count": null,
   "metadata": {},
   "outputs": [],
   "source": []
  },
  {
   "cell_type": "code",
   "execution_count": null,
   "metadata": {},
   "outputs": [],
   "source": []
  },
  {
   "cell_type": "code",
   "execution_count": null,
   "metadata": {},
   "outputs": [],
   "source": []
  },
  {
   "cell_type": "code",
   "execution_count": null,
   "metadata": {},
   "outputs": [],
   "source": []
  },
  {
   "cell_type": "code",
   "execution_count": null,
   "metadata": {},
   "outputs": [],
   "source": []
  },
  {
   "cell_type": "code",
   "execution_count": null,
   "metadata": {},
   "outputs": [],
   "source": []
  }
 ],
 "metadata": {
  "kernelspec": {
   "display_name": "Python 3",
   "language": "python",
   "name": "python3"
  },
  "language_info": {
   "codemirror_mode": {
    "name": "ipython",
    "version": 3
   },
   "file_extension": ".py",
   "mimetype": "text/x-python",
   "name": "python",
   "nbconvert_exporter": "python",
   "pygments_lexer": "ipython3",
   "version": "3.7.3"
  }
 },
 "nbformat": 4,
 "nbformat_minor": 2
}
